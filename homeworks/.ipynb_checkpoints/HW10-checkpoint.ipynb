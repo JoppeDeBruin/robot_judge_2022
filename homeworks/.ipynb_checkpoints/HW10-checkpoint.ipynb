{
 "cells": [
  {
   "cell_type": "markdown",
   "metadata": {},
   "source": [
    "# HW10: Algorithmic Fairness \n",
    "\n",
    "### Note: to complete most of this homework notions from week 11 slides are needed\n",
    "\n",
    "In this homework you will assess racial bias in the COMPAS algorithm and judges decisions. \n",
    "\n",
    "The data is a collection of 7000 criminal cases in Florida in which COMPAS was used and it contains information about defendants' demographics, criminal history (e.g., juvenile criminal records), court decision and recidivism."
   ]
  },
  {
   "cell_type": "code",
   "execution_count": 230,
   "metadata": {},
   "outputs": [],
   "source": [
    "import pandas as pd \n",
    "import matplotlib.pyplot as plt\n",
    "import seaborn as sns\n",
    "sns.set_theme()\n",
    "import warnings\n",
    "warnings.filterwarnings('ignore', category=FutureWarning)\n",
    "warnings.filterwarnings('ignore', category=DeprecationWarning)\n",
    "warnings.filterwarnings = lambda *a, **kw: None"
   ]
  },
  {
   "cell_type": "markdown",
   "metadata": {},
   "source": [
    "## Data Preparation"
   ]
  },
  {
   "cell_type": "code",
   "execution_count": 231,
   "metadata": {},
   "outputs": [
    {
     "data": {
      "text/html": [
       "<div>\n",
       "<style scoped>\n",
       "    .dataframe tbody tr th:only-of-type {\n",
       "        vertical-align: middle;\n",
       "    }\n",
       "\n",
       "    .dataframe tbody tr th {\n",
       "        vertical-align: top;\n",
       "    }\n",
       "\n",
       "    .dataframe thead th {\n",
       "        text-align: right;\n",
       "    }\n",
       "</style>\n",
       "<table border=\"1\" class=\"dataframe\">\n",
       "  <thead>\n",
       "    <tr style=\"text-align: right;\">\n",
       "      <th></th>\n",
       "      <th>id</th>\n",
       "      <th>name</th>\n",
       "      <th>first</th>\n",
       "      <th>last</th>\n",
       "      <th>compas_screening_date</th>\n",
       "      <th>sex</th>\n",
       "      <th>dob</th>\n",
       "      <th>age</th>\n",
       "      <th>age_cat</th>\n",
       "      <th>race</th>\n",
       "      <th>...</th>\n",
       "      <th>v_decile_score</th>\n",
       "      <th>v_score_text</th>\n",
       "      <th>v_screening_date</th>\n",
       "      <th>in_custody</th>\n",
       "      <th>out_custody</th>\n",
       "      <th>priors_count.1</th>\n",
       "      <th>start</th>\n",
       "      <th>end</th>\n",
       "      <th>event</th>\n",
       "      <th>two_year_recid</th>\n",
       "    </tr>\n",
       "  </thead>\n",
       "  <tbody>\n",
       "    <tr>\n",
       "      <th>0</th>\n",
       "      <td>1</td>\n",
       "      <td>miguel hernandez</td>\n",
       "      <td>miguel</td>\n",
       "      <td>hernandez</td>\n",
       "      <td>2013-08-14</td>\n",
       "      <td>Male</td>\n",
       "      <td>1947-04-18</td>\n",
       "      <td>69</td>\n",
       "      <td>Greater than 45</td>\n",
       "      <td>Other</td>\n",
       "      <td>...</td>\n",
       "      <td>1</td>\n",
       "      <td>Low</td>\n",
       "      <td>2013-08-14</td>\n",
       "      <td>2014-07-07</td>\n",
       "      <td>2014-07-14</td>\n",
       "      <td>0</td>\n",
       "      <td>0</td>\n",
       "      <td>327</td>\n",
       "      <td>0</td>\n",
       "      <td>0</td>\n",
       "    </tr>\n",
       "    <tr>\n",
       "      <th>1</th>\n",
       "      <td>3</td>\n",
       "      <td>kevon dixon</td>\n",
       "      <td>kevon</td>\n",
       "      <td>dixon</td>\n",
       "      <td>2013-01-27</td>\n",
       "      <td>Male</td>\n",
       "      <td>1982-01-22</td>\n",
       "      <td>34</td>\n",
       "      <td>25 - 45</td>\n",
       "      <td>African-American</td>\n",
       "      <td>...</td>\n",
       "      <td>1</td>\n",
       "      <td>Low</td>\n",
       "      <td>2013-01-27</td>\n",
       "      <td>2013-01-26</td>\n",
       "      <td>2013-02-05</td>\n",
       "      <td>0</td>\n",
       "      <td>9</td>\n",
       "      <td>159</td>\n",
       "      <td>1</td>\n",
       "      <td>1</td>\n",
       "    </tr>\n",
       "    <tr>\n",
       "      <th>2</th>\n",
       "      <td>4</td>\n",
       "      <td>ed philo</td>\n",
       "      <td>ed</td>\n",
       "      <td>philo</td>\n",
       "      <td>2013-04-14</td>\n",
       "      <td>Male</td>\n",
       "      <td>1991-05-14</td>\n",
       "      <td>24</td>\n",
       "      <td>Less than 25</td>\n",
       "      <td>African-American</td>\n",
       "      <td>...</td>\n",
       "      <td>3</td>\n",
       "      <td>Low</td>\n",
       "      <td>2013-04-14</td>\n",
       "      <td>2013-06-16</td>\n",
       "      <td>2013-06-16</td>\n",
       "      <td>4</td>\n",
       "      <td>0</td>\n",
       "      <td>63</td>\n",
       "      <td>0</td>\n",
       "      <td>1</td>\n",
       "    </tr>\n",
       "    <tr>\n",
       "      <th>3</th>\n",
       "      <td>5</td>\n",
       "      <td>marcu brown</td>\n",
       "      <td>marcu</td>\n",
       "      <td>brown</td>\n",
       "      <td>2013-01-13</td>\n",
       "      <td>Male</td>\n",
       "      <td>1993-01-21</td>\n",
       "      <td>23</td>\n",
       "      <td>Less than 25</td>\n",
       "      <td>African-American</td>\n",
       "      <td>...</td>\n",
       "      <td>6</td>\n",
       "      <td>Medium</td>\n",
       "      <td>2013-01-13</td>\n",
       "      <td>NaN</td>\n",
       "      <td>NaN</td>\n",
       "      <td>1</td>\n",
       "      <td>0</td>\n",
       "      <td>1174</td>\n",
       "      <td>0</td>\n",
       "      <td>0</td>\n",
       "    </tr>\n",
       "    <tr>\n",
       "      <th>4</th>\n",
       "      <td>6</td>\n",
       "      <td>bouthy pierrelouis</td>\n",
       "      <td>bouthy</td>\n",
       "      <td>pierrelouis</td>\n",
       "      <td>2013-03-26</td>\n",
       "      <td>Male</td>\n",
       "      <td>1973-01-22</td>\n",
       "      <td>43</td>\n",
       "      <td>25 - 45</td>\n",
       "      <td>Other</td>\n",
       "      <td>...</td>\n",
       "      <td>1</td>\n",
       "      <td>Low</td>\n",
       "      <td>2013-03-26</td>\n",
       "      <td>NaN</td>\n",
       "      <td>NaN</td>\n",
       "      <td>2</td>\n",
       "      <td>0</td>\n",
       "      <td>1102</td>\n",
       "      <td>0</td>\n",
       "      <td>0</td>\n",
       "    </tr>\n",
       "  </tbody>\n",
       "</table>\n",
       "<p>5 rows × 53 columns</p>\n",
       "</div>"
      ],
      "text/plain": [
       "   id                name   first         last compas_screening_date   sex  \\\n",
       "0   1    miguel hernandez  miguel    hernandez            2013-08-14  Male   \n",
       "1   3         kevon dixon   kevon        dixon            2013-01-27  Male   \n",
       "2   4            ed philo      ed        philo            2013-04-14  Male   \n",
       "3   5         marcu brown   marcu        brown            2013-01-13  Male   \n",
       "4   6  bouthy pierrelouis  bouthy  pierrelouis            2013-03-26  Male   \n",
       "\n",
       "          dob  age          age_cat              race  ...  v_decile_score  \\\n",
       "0  1947-04-18   69  Greater than 45             Other  ...               1   \n",
       "1  1982-01-22   34          25 - 45  African-American  ...               1   \n",
       "2  1991-05-14   24     Less than 25  African-American  ...               3   \n",
       "3  1993-01-21   23     Less than 25  African-American  ...               6   \n",
       "4  1973-01-22   43          25 - 45             Other  ...               1   \n",
       "\n",
       "   v_score_text  v_screening_date  in_custody  out_custody  priors_count.1  \\\n",
       "0           Low        2013-08-14  2014-07-07   2014-07-14               0   \n",
       "1           Low        2013-01-27  2013-01-26   2013-02-05               0   \n",
       "2           Low        2013-04-14  2013-06-16   2013-06-16               4   \n",
       "3        Medium        2013-01-13         NaN          NaN               1   \n",
       "4           Low        2013-03-26         NaN          NaN               2   \n",
       "\n",
       "  start   end event two_year_recid  \n",
       "0     0   327     0              0  \n",
       "1     9   159     1              1  \n",
       "2     0    63     0              1  \n",
       "3     0  1174     0              0  \n",
       "4     0  1102     0              0  \n",
       "\n",
       "[5 rows x 53 columns]"
      ]
     },
     "execution_count": 231,
     "metadata": {},
     "output_type": "execute_result"
    }
   ],
   "source": [
    "df = pd.read_csv('https://raw.githubusercontent.com/propublica/compas-analysis/master/compas-scores-two-years.csv')\n",
    "df.head()"
   ]
  },
  {
   "cell_type": "code",
   "execution_count": 232,
   "metadata": {},
   "outputs": [
    {
     "name": "stdout",
     "output_type": "stream",
     "text": [
      "<class 'pandas.core.frame.DataFrame'>\n",
      "RangeIndex: 7214 entries, 0 to 7213\n",
      "Data columns (total 53 columns):\n",
      " #   Column                   Non-Null Count  Dtype  \n",
      "---  ------                   --------------  -----  \n",
      " 0   id                       7214 non-null   int64  \n",
      " 1   name                     7214 non-null   object \n",
      " 2   first                    7214 non-null   object \n",
      " 3   last                     7214 non-null   object \n",
      " 4   compas_screening_date    7214 non-null   object \n",
      " 5   sex                      7214 non-null   object \n",
      " 6   dob                      7214 non-null   object \n",
      " 7   age                      7214 non-null   int64  \n",
      " 8   age_cat                  7214 non-null   object \n",
      " 9   race                     7214 non-null   object \n",
      " 10  juv_fel_count            7214 non-null   int64  \n",
      " 11  decile_score             7214 non-null   int64  \n",
      " 12  juv_misd_count           7214 non-null   int64  \n",
      " 13  juv_other_count          7214 non-null   int64  \n",
      " 14  priors_count             7214 non-null   int64  \n",
      " 15  days_b_screening_arrest  6907 non-null   float64\n",
      " 16  c_jail_in                6907 non-null   object \n",
      " 17  c_jail_out               6907 non-null   object \n",
      " 18  c_case_number            7192 non-null   object \n",
      " 19  c_offense_date           6055 non-null   object \n",
      " 20  c_arrest_date            1137 non-null   object \n",
      " 21  c_days_from_compas       7192 non-null   float64\n",
      " 22  c_charge_degree          7214 non-null   object \n",
      " 23  c_charge_desc            7185 non-null   object \n",
      " 24  is_recid                 7214 non-null   int64  \n",
      " 25  r_case_number            3471 non-null   object \n",
      " 26  r_charge_degree          3471 non-null   object \n",
      " 27  r_days_from_arrest       2316 non-null   float64\n",
      " 28  r_offense_date           3471 non-null   object \n",
      " 29  r_charge_desc            3413 non-null   object \n",
      " 30  r_jail_in                2316 non-null   object \n",
      " 31  r_jail_out               2316 non-null   object \n",
      " 32  violent_recid            0 non-null      float64\n",
      " 33  is_violent_recid         7214 non-null   int64  \n",
      " 34  vr_case_number           819 non-null    object \n",
      " 35  vr_charge_degree         819 non-null    object \n",
      " 36  vr_offense_date          819 non-null    object \n",
      " 37  vr_charge_desc           819 non-null    object \n",
      " 38  type_of_assessment       7214 non-null   object \n",
      " 39  decile_score.1           7214 non-null   int64  \n",
      " 40  score_text               7214 non-null   object \n",
      " 41  screening_date           7214 non-null   object \n",
      " 42  v_type_of_assessment     7214 non-null   object \n",
      " 43  v_decile_score           7214 non-null   int64  \n",
      " 44  v_score_text             7214 non-null   object \n",
      " 45  v_screening_date         7214 non-null   object \n",
      " 46  in_custody               6978 non-null   object \n",
      " 47  out_custody              6978 non-null   object \n",
      " 48  priors_count.1           7214 non-null   int64  \n",
      " 49  start                    7214 non-null   int64  \n",
      " 50  end                      7214 non-null   int64  \n",
      " 51  event                    7214 non-null   int64  \n",
      " 52  two_year_recid           7214 non-null   int64  \n",
      "dtypes: float64(4), int64(16), object(33)\n",
      "memory usage: 2.9+ MB\n"
     ]
    }
   ],
   "source": [
    "df.info()"
   ]
  },
  {
   "cell_type": "code",
   "execution_count": 233,
   "metadata": {},
   "outputs": [],
   "source": [
    "df['days_from_recid'] = pd.to_datetime(df['r_offense_date']) - pd.to_datetime(df['c_offense_date'])\n",
    "df['days_from_recid'] = df['days_from_recid'].dt.days\n",
    "df['two_year_recid2'] = (df['days_from_recid']<=730).astype(int)\n",
    "\n",
    "#generate felony charge dummies\n",
    "df['felony'] = (df['c_charge_degree'] == 'F').astype(int)\n",
    "\n",
    "#generate age dummies\n",
    "d = pd.get_dummies(df['age_cat'])\n",
    "df = pd.concat([df, d], axis=1)\n",
    "df = df.rename(columns={'25 - 45':'age_cat_25 - 45', 'Greater than 45':'age_cat_Greater than 45', 'Less than 25':'age_cat_Less than 25'})\n",
    "\n",
    "#generate ethnicity, race and compas score dummies\n",
    "d = pd.get_dummies(df['race'])\n",
    "df = pd.concat([df, d], axis=1)\n",
    "df['male'] = (df['sex'] == 'Male').astype(int)\n",
    "d = pd.get_dummies(df['score_text'])\n",
    "df = pd.concat([df, d], axis=1)\n",
    "df = df.rename(columns={'High':'score_text_high', 'Medium':'score_text_medium', 'Low':'score_text_low'})"
   ]
  },
  {
   "cell_type": "markdown",
   "metadata": {},
   "source": [
    "### Setting outcomes and predictors\n",
    "\n",
    "The *ideal* target variable for the COMPAS algorithm is the presence of a recidivism episode, while for judges is the decision to send the defendant to jail. For the predictors we use some deomgraphic characteristics **excluding race**, criminal hisotry and type of crime. "
   ]
  },
  {
   "cell_type": "code",
   "execution_count": 234,
   "metadata": {},
   "outputs": [
    {
     "data": {
      "text/plain": [
       "0    4283\n",
       "1    2931\n",
       "Name: jailed, dtype: int64"
      ]
     },
     "execution_count": 234,
     "metadata": {},
     "output_type": "execute_result"
    }
   ],
   "source": [
    "# judge decision: \"jailed\" = more than one day in jail.\n",
    "df['jail_days'] = pd.to_datetime(df['c_jail_out']) - pd.to_datetime(df['c_jail_in'])\n",
    "df['jailed'] = (df.jail_days.dt.days > 1).astype(int)\n",
    "D = df['jailed']\n",
    "D.value_counts()"
   ]
  },
  {
   "cell_type": "code",
   "execution_count": 235,
   "metadata": {},
   "outputs": [
    {
     "data": {
      "text/plain": [
       "0    4557\n",
       "1    2657\n",
       "Name: two_year_recid2, dtype: int64"
      ]
     },
     "execution_count": 235,
     "metadata": {},
     "output_type": "execute_result"
    }
   ],
   "source": [
    "# Algorithm outcome\n",
    "Y = df['two_year_recid2'] \n",
    "Y.value_counts()"
   ]
  },
  {
   "cell_type": "code",
   "execution_count": 236,
   "metadata": {},
   "outputs": [
    {
     "data": {
      "text/html": [
       "<div>\n",
       "<style scoped>\n",
       "    .dataframe tbody tr th:only-of-type {\n",
       "        vertical-align: middle;\n",
       "    }\n",
       "\n",
       "    .dataframe tbody tr th {\n",
       "        vertical-align: top;\n",
       "    }\n",
       "\n",
       "    .dataframe thead th {\n",
       "        text-align: right;\n",
       "    }\n",
       "</style>\n",
       "<table border=\"1\" class=\"dataframe\">\n",
       "  <thead>\n",
       "    <tr style=\"text-align: right;\">\n",
       "      <th></th>\n",
       "      <th>felony</th>\n",
       "      <th>male</th>\n",
       "      <th>age</th>\n",
       "      <th>juv_fel_count</th>\n",
       "      <th>juv_misd_count</th>\n",
       "      <th>juv_other_count</th>\n",
       "      <th>priors_count</th>\n",
       "    </tr>\n",
       "  </thead>\n",
       "  <tbody>\n",
       "    <tr>\n",
       "      <th>count</th>\n",
       "      <td>7214.000000</td>\n",
       "      <td>7214.000000</td>\n",
       "      <td>7214.000000</td>\n",
       "      <td>7214.000000</td>\n",
       "      <td>7214.000000</td>\n",
       "      <td>7214.000000</td>\n",
       "      <td>7214.000000</td>\n",
       "    </tr>\n",
       "    <tr>\n",
       "      <th>mean</th>\n",
       "      <td>0.646798</td>\n",
       "      <td>0.806626</td>\n",
       "      <td>34.817993</td>\n",
       "      <td>0.067230</td>\n",
       "      <td>0.090934</td>\n",
       "      <td>0.109371</td>\n",
       "      <td>3.472415</td>\n",
       "    </tr>\n",
       "    <tr>\n",
       "      <th>std</th>\n",
       "      <td>0.477998</td>\n",
       "      <td>0.394971</td>\n",
       "      <td>11.888922</td>\n",
       "      <td>0.473972</td>\n",
       "      <td>0.485239</td>\n",
       "      <td>0.501586</td>\n",
       "      <td>4.882538</td>\n",
       "    </tr>\n",
       "    <tr>\n",
       "      <th>min</th>\n",
       "      <td>0.000000</td>\n",
       "      <td>0.000000</td>\n",
       "      <td>18.000000</td>\n",
       "      <td>0.000000</td>\n",
       "      <td>0.000000</td>\n",
       "      <td>0.000000</td>\n",
       "      <td>0.000000</td>\n",
       "    </tr>\n",
       "    <tr>\n",
       "      <th>25%</th>\n",
       "      <td>0.000000</td>\n",
       "      <td>1.000000</td>\n",
       "      <td>25.000000</td>\n",
       "      <td>0.000000</td>\n",
       "      <td>0.000000</td>\n",
       "      <td>0.000000</td>\n",
       "      <td>0.000000</td>\n",
       "    </tr>\n",
       "    <tr>\n",
       "      <th>50%</th>\n",
       "      <td>1.000000</td>\n",
       "      <td>1.000000</td>\n",
       "      <td>31.000000</td>\n",
       "      <td>0.000000</td>\n",
       "      <td>0.000000</td>\n",
       "      <td>0.000000</td>\n",
       "      <td>2.000000</td>\n",
       "    </tr>\n",
       "    <tr>\n",
       "      <th>75%</th>\n",
       "      <td>1.000000</td>\n",
       "      <td>1.000000</td>\n",
       "      <td>42.000000</td>\n",
       "      <td>0.000000</td>\n",
       "      <td>0.000000</td>\n",
       "      <td>0.000000</td>\n",
       "      <td>5.000000</td>\n",
       "    </tr>\n",
       "    <tr>\n",
       "      <th>max</th>\n",
       "      <td>1.000000</td>\n",
       "      <td>1.000000</td>\n",
       "      <td>96.000000</td>\n",
       "      <td>20.000000</td>\n",
       "      <td>13.000000</td>\n",
       "      <td>17.000000</td>\n",
       "      <td>38.000000</td>\n",
       "    </tr>\n",
       "  </tbody>\n",
       "</table>\n",
       "</div>"
      ],
      "text/plain": [
       "            felony         male          age  juv_fel_count  juv_misd_count  \\\n",
       "count  7214.000000  7214.000000  7214.000000    7214.000000     7214.000000   \n",
       "mean      0.646798     0.806626    34.817993       0.067230        0.090934   \n",
       "std       0.477998     0.394971    11.888922       0.473972        0.485239   \n",
       "min       0.000000     0.000000    18.000000       0.000000        0.000000   \n",
       "25%       0.000000     1.000000    25.000000       0.000000        0.000000   \n",
       "50%       1.000000     1.000000    31.000000       0.000000        0.000000   \n",
       "75%       1.000000     1.000000    42.000000       0.000000        0.000000   \n",
       "max       1.000000     1.000000    96.000000      20.000000       13.000000   \n",
       "\n",
       "       juv_other_count  priors_count  \n",
       "count      7214.000000   7214.000000  \n",
       "mean          0.109371      3.472415  \n",
       "std           0.501586      4.882538  \n",
       "min           0.000000      0.000000  \n",
       "25%           0.000000      0.000000  \n",
       "50%           0.000000      2.000000  \n",
       "75%           0.000000      5.000000  \n",
       "max          17.000000     38.000000  "
      ]
     },
     "execution_count": 236,
     "metadata": {},
     "output_type": "execute_result"
    }
   ],
   "source": [
    "# predictors\n",
    "predictors = ['felony',\n",
    "              'male', 'age', \n",
    "              'juv_fel_count','juv_misd_count', 'juv_other_count', 'priors_count']\n",
    "X = df[predictors]\n",
    "X.describe()"
   ]
  },
  {
   "cell_type": "code",
   "execution_count": 237,
   "metadata": {},
   "outputs": [
    {
     "data": {
      "text/plain": [
       "African-American    3696\n",
       "Caucasian           2454\n",
       "Hispanic             637\n",
       "Other                377\n",
       "Asian                 32\n",
       "Native American       18\n",
       "Name: race, dtype: int64"
      ]
     },
     "execution_count": 237,
     "metadata": {},
     "output_type": "execute_result"
    }
   ],
   "source": [
    "df['race'].value_counts()"
   ]
  },
  {
   "cell_type": "code",
   "execution_count": 238,
   "metadata": {},
   "outputs": [
    {
     "data": {
      "text/plain": [
       "count    7214.000000\n",
       "mean        0.659828\n",
       "std         0.473800\n",
       "min         0.000000\n",
       "25%         0.000000\n",
       "50%         1.000000\n",
       "75%         1.000000\n",
       "max         1.000000\n",
       "Name: race, dtype: float64"
      ]
     },
     "execution_count": 238,
     "metadata": {},
     "output_type": "execute_result"
    }
   ],
   "source": [
    "# indicator variable for non-white\n",
    "NW = (df['race'] != 'Caucasian').astype(int)\n",
    "NW.describe()"
   ]
  },
  {
   "cell_type": "markdown",
   "metadata": {},
   "source": [
    "## Assessing Algorithm: Predict Recidivism from Features"
   ]
  },
  {
   "cell_type": "markdown",
   "metadata": {},
   "source": [
    "In the following you will predict recidivism from defendants' features using a nested training/test split so we can get clean test-set predictions for the whole dataset (see the notebook and homework on double machine learning for how to do this - week 6)."
   ]
  },
  {
   "cell_type": "code",
   "execution_count": null,
   "metadata": {},
   "outputs": [],
   "source": []
  },
  {
   "cell_type": "code",
   "execution_count": 239,
   "metadata": {
    "scrolled": true
   },
   "outputs": [
    {
     "name": "stdout",
     "output_type": "stream",
     "text": [
      "F1 Score on Test Set (cross score)\n",
      "Sample A: 0.311284\n",
      "Sample B: 0.324590\n"
     ]
    }
   ],
   "source": [
    "# perform nested train/test split \n",
    "from sklearn.model_selection import train_test_split\n",
    "from sklearn.metrics import f1_score\n",
    "X_a, X_b, Y_a, Y_b, D_a, D_b,NW_a, NW_b = train_test_split(X, Y, D, NW, test_size = 0.5)\n",
    "\n",
    "df_pred = X_a.append(X_b) \n",
    "\n",
    "#TODO train a logit model to predict recidism (Y) from predictors (X).\n",
    "#TODO form clean test-set predictions for recidivism in the full dataset\n",
    "from sklearn.linear_model import LogisticRegression\n",
    "\n",
    "# Since we do Logistic regression, we do not need an extra split to do hyperparameter tuning. One cross fitting step is sufficient\n",
    "#X_a_train, X_a_val, Y_a_train, Y_a_val, D_a_train, D_a_val, NW_a_train, NW_a_train = train_test_split(X_a, Y_a, D_a, NW_a, test_size = 0.35)\n",
    "#X_b_train, X_b_val, Y_b_train, Y_b_val, D_b_train, D_b_val, NW_b_train, NW_b_train = train_test_split(X_b, Y_b, D_b, NW_b, test_size = 0.35)\n",
    "\n",
    "\n",
    "model_log_a= LogisticRegression()\n",
    "model_log_a.fit(X_a, Y_a)\n",
    "\n",
    "model_log_b = LogisticRegression()\n",
    "model_log_b.fit(X_b, Y_b)\n",
    "\n",
    "# Cross predict for a and b\n",
    "\n",
    "\n",
    "y_hat_a_cross = model_log_b.predict(X_a)\n",
    "y_hat_b_cross = model_log_a.predict(X_b)\n",
    "\n",
    "y_hat_prob_a_cross = model_log_b.predict_proba(X_a)[:,1]\n",
    "y_hat_prob_b_cross = model_log_a.predict_proba(X_b)[:,1]\n",
    "\n",
    "\n",
    "print('F1 Score on Test Set (cross score)')\n",
    "print('Sample A: %f' % f1_score(model_log_b.predict(X_a), Y_a))\n",
    "print('Sample B: %f' % f1_score(model_log_a.predict(X_b), Y_b))\n",
    "\n",
    "df_pred[\"y_hat\"] = np.concatenate((y_hat_a_cross, y_hat_b_cross))\n",
    "df_pred[\"y_hat_proba\"] = np.concatenate((y_hat_prob_a_cross, y_hat_prob_b_cross))\n",
    "\n",
    "df_pred[\"y\"] = pd.concat([Y_a, Y_b])"
   ]
  },
  {
   "cell_type": "code",
   "execution_count": null,
   "metadata": {},
   "outputs": [],
   "source": []
  },
  {
   "cell_type": "markdown",
   "metadata": {},
   "source": [
    "Evaluate test set performance."
   ]
  },
  {
   "cell_type": "code",
   "execution_count": 240,
   "metadata": {
    "scrolled": true
   },
   "outputs": [
    {
     "name": "stdout",
     "output_type": "stream",
     "text": [
      "Sample a\n",
      "Accuracy: 0.656501\n",
      "Balanced accuracy: 0.562079\n",
      "roc_auc: 0.672100\n",
      "              precision    recall  f1-score   support\n",
      "\n",
      "           0       0.91      0.67      0.77      3124\n",
      "           1       0.21      0.58      0.31       483\n",
      "\n",
      "    accuracy                           0.66      3607\n",
      "   macro avg       0.56      0.62      0.54      3607\n",
      "weighted avg       0.82      0.66      0.71      3607\n",
      "\n",
      "Sample b\n",
      "Accuracy: 0.657333\n",
      "Balanced accuracy: 0.568373\n",
      "roc_auc: 0.669158\n",
      "              precision    recall  f1-score   support\n",
      "\n",
      "           0       0.92      0.67      0.77      3118\n",
      "           1       0.22      0.61      0.32       489\n",
      "\n",
      "    accuracy                           0.66      3607\n",
      "   macro avg       0.57      0.64      0.55      3607\n",
      "weighted avg       0.82      0.66      0.71      3607\n",
      "\n",
      "Sample a + b\n",
      "              precision    recall  f1-score   support\n",
      "\n",
      "           0       0.67      0.91      0.77      4557\n",
      "           1       0.59      0.22      0.32      2657\n",
      "\n",
      "    accuracy                           0.66      7214\n",
      "   macro avg       0.63      0.57      0.54      7214\n",
      "weighted avg       0.64      0.66      0.60      7214\n",
      "\n",
      "False Positive/False Negative:  0.18990384615384615\n"
     ]
    },
    {
     "data": {
      "image/png": "[encoded data removed]",
      "text/plain": [
       "<Figure size 432x288 with 2 Axes>"
      ]
     },
     "metadata": {},
     "output_type": "display_data"
    },
    {
     "data": {
      "image/png": "[encoded data removed]",
      "text/plain": [
       "<Figure size 432x288 with 2 Axes>"
      ]
     },
     "metadata": {},
     "output_type": "display_data"
    },
    {
     "data": {
      "image/png": "[encoded data removed]",
      "text/plain": [
       "<Figure size 432x288 with 2 Axes>"
      ]
     },
     "metadata": {},
     "output_type": "display_data"
    },
    {
     "data": {
      "image/png": "[encoded data removed]",
      "text/plain": [
       "<Figure size 432x288 with 2 Axes>"
      ]
     },
     "metadata": {},
     "output_type": "display_data"
    }
   ],
   "source": [
    "#TODO show a confusion matrix, compute accuracy, balanced accuracy, and roc_auc\n",
    "#TODO compute ratio of false positives to false negatives\n",
    "\n",
    "from sklearn.metrics import confusion_matrix, plot_confusion_matrix, accuracy_score, balanced_accuracy_score, roc_auc_score\n",
    "from sklearn.metrics import classification_report\n",
    "import matplotlib.pyplot as plt\n",
    "import numpy as np\n",
    "\n",
    "# First let's compute and plot these for the separate cross scores and then for the total\n",
    "\n",
    "print(\"Sample a\")\n",
    "print(\"Accuracy: %f\" %accuracy_score(Y_a, y_hat_a_cross))\n",
    "print(\"Balanced accuracy: %f\" %balanced_accuracy_score(Y_a, y_hat_a_cross))\n",
    "print(\"roc_auc: %f\" %roc_auc_score(Y_a, model_log_b.predict_proba(X_a)[:, 1]))\n",
    "print(classification_report(y_hat_a_cross, Y_a))\n",
    "plot_confusion_matrix(model_log_b, X_a, Y_a)\n",
    "\n",
    "\n",
    "print(\"Sample b\")\n",
    "print(\"Accuracy: %f\" %accuracy_score(Y_b, y_hat_b_cross))\n",
    "print(\"Balanced accuracy: %f\" %balanced_accuracy_score(Y_b, y_hat_b_cross))\n",
    "print(\"roc_auc: %f\" %roc_auc_score(Y_b, model_log_a.predict_proba(X_b)[:, 1]))\n",
    "print(classification_report(y_hat_b_cross, Y_b))\n",
    "plot_confusion_matrix(model_log_a, X_b, Y_b)\n",
    "\n",
    "\n",
    "#######\n",
    "y_hat = np.concatenate((y_hat_a_cross, y_hat_b_cross))\n",
    "y_true = np.concatenate((Y_a, Y_b))\n",
    "y_hat_probs = np.concatenate((model_log_b.predict_proba(X_a)[:,1], model_log_a.predict_proba(X_b)[:,1]))\n",
    "\n",
    "\n",
    "print(\"Sample a + b\")\n",
    "print(classification_report(df_pred[\"y\"], df_pred[\"y_hat\"]))\n",
    "plot_confusion_matrix(model_log_a, df_pred[predictors], df_pred[\"y\"])\n",
    "plot_confusion_matrix(model_log_b, df_pred[predictors], df_pred[\"y\"])\n",
    "\n",
    "# False positive rate/ true positive ratio\n",
    "tn, fp, fn, tp = confusion_matrix(df_pred['y'], df_pred['y_hat']).ravel()\n",
    "print('False Positive/False Negative: ', fp/fn)"
   ]
  },
  {
   "cell_type": "markdown",
   "metadata": {},
   "source": [
    "### Compare treatment of whites and non-whites for recidivism prediction\n",
    "##### Refer to week 11 for these concepts"
   ]
  },
  {
   "cell_type": "markdown",
   "metadata": {},
   "source": [
    "#### Base Rates"
   ]
  },
  {
   "cell_type": "code",
   "execution_count": 241,
   "metadata": {},
   "outputs": [
    {
     "name": "stdout",
     "output_type": "stream",
     "text": [
      "For NW: 0.389076\n",
      "For W: 0.328036\n"
     ]
    }
   ],
   "source": [
    "##TODO Compare base rates for recidivism outcomes of whites and non-whites\n",
    "print(\"For NW: %f\"%Y[NW == 1].mean())\n",
    "\n",
    "print(\"For W: %f\" %Y[NW == 0].mean())\n",
    "\n",
    "# There seems to be slightly higher recidivism among NW than W."
   ]
  },
  {
   "cell_type": "code",
   "execution_count": 242,
   "metadata": {},
   "outputs": [
    {
     "name": "stdout",
     "output_type": "stream",
     "text": [
      "(4760,)\n",
      "(4760,)\n"
     ]
    }
   ],
   "source": [
    "print(y_hat[NW_sorted==1].shape)\n",
    "print(df_pred[\"y_hat\"][NW_sorted==1].shape)"
   ]
  },
  {
   "cell_type": "markdown",
   "metadata": {},
   "source": [
    "#### Performance"
   ]
  },
  {
   "cell_type": "code",
   "execution_count": 243,
   "metadata": {},
   "outputs": [
    {
     "name": "stdout",
     "output_type": "stream",
     "text": [
      "NW == 1\n",
      "(4760,)\n",
      "[[0.54663866 0.06428571]\n",
      " [0.29138655 0.09768908]]\n",
      "              precision    recall  f1-score   support\n",
      "\n",
      "           0       0.65      0.89      0.75      2908\n",
      "           1       0.60      0.25      0.35      1852\n",
      "\n",
      "    accuracy                           0.64      4760\n",
      "   macro avg       0.63      0.57      0.55      4760\n",
      "weighted avg       0.63      0.64      0.60      4760\n",
      "\n",
      "False Positive/False Negative:  0.220620043258832\n",
      "NW == 0\n",
      "(2454,)\n",
      "[[0.63569682 0.03626732]\n",
      " [0.28239609 0.04563977]]\n",
      "              precision    recall  f1-score   support\n",
      "\n",
      "           0       0.69      0.95      0.80      1649\n",
      "           1       0.56      0.14      0.22       805\n",
      "\n",
      "    accuracy                           0.68      2454\n",
      "   macro avg       0.62      0.54      0.51      2454\n",
      "weighted avg       0.65      0.68      0.61      2454\n",
      "\n",
      "False Positive/False Negative:  0.12842712842712842\n",
      "0.08190709046454768\n",
      "0.1619747899159664\n"
     ]
    }
   ],
   "source": [
    "##TODO Produce confusion matrices, classification reports, and ratio of false positives to false negatives, separately for whites and non-whites.\n",
    "NW_sorted = np.concatenate((NW_a, NW_b))\n",
    "\n",
    "# FOR NW == 1\n",
    "print(\"NW == 1\")\n",
    "print(df_pred[\"y_hat\"][NW_sorted==1].shape)\n",
    "print(confusion_matrix(df_pred[\"y\"][NW_sorted==1], df_pred[\"y_hat\"][NW_sorted==1])/df_pred[\"y_hat\"][NW_sorted==1].shape[0])\n",
    "print(classification_report(df_pred[\"y\"][NW_sorted == 1], df_pred[\"y_hat\"][NW_sorted == 1]))\n",
    "tn, fp, fn, tp = confusion_matrix(df_pred['y'][NW_sorted==1], df_pred['y_hat'][NW_sorted==1]).ravel()\n",
    "print('False Positive/False Negative: ', fp/fn)\n",
    "\n",
    "# FOR NW==0\n",
    "print(\"NW == 0\")\n",
    "print(df_pred[\"y_hat\"][NW_sorted==0].shape)\n",
    "print(confusion_matrix(df_pred[\"y\"][NW_sorted==0], df_pred[\"y_hat\"][NW_sorted==0])/df_pred[\"y_hat\"][NW_sorted==0].shape[0])\n",
    "print(classification_report(df_pred[\"y\"][NW_sorted == 0], df_pred[\"y_hat\"][NW_sorted == 0]))\n",
    "\n",
    "tn, fp, fn, tp = confusion_matrix(df_pred['y'][NW_sorted==0], df_pred['y_hat'][NW_sorted==0]).ravel()\n",
    "print('False Positive/False Negative: ', fp/fn)\n",
    "\n",
    "print(df_pred[\"y_hat\"][NW_sorted == 0].mean())\n",
    "print(df_pred[\"y_hat\"][NW_sorted == 1].mean())\n"
   ]
  },
  {
   "cell_type": "markdown",
   "metadata": {},
   "source": [
    "**What concepts of \"fairness\" (from class) are (approximately) satisfied by this classifier? Explain.**\n",
    "\n",
    "Accuracies are relatively similar (for Whites, it is a bit higher, but not much)\n",
    "In terms of the ratio between false positives and false negatives, there does seem to be quite a big difference between the two groups\n",
    "We also considered the statistical parity in class: when we look at the average predictions (y_hat) between the groups, we see that there also seems to be quite a difference between those numbers (0.08 vs 0.16). They are also quite a bit lower than the base rates! (which are also not equal!)\n"
   ]
  },
  {
   "cell_type": "markdown",
   "metadata": {},
   "source": [
    "## Assessing Judges' Decisions: Predict Judge Decision from Features"
   ]
  },
  {
   "cell_type": "markdown",
   "metadata": {},
   "source": [
    "In the following you will predict judges' decisions from defendants' features using a nested training/test split as before. In a second model, include Y-hat from previous section as a predictor."
   ]
  },
  {
   "cell_type": "code",
   "execution_count": 244,
   "metadata": {},
   "outputs": [
    {
     "name": "stdout",
     "output_type": "stream",
     "text": [
      "F1 Score on Test Set (cross score)\n",
      "Sample A: 0.351638\n",
      "Sample B: 0.330900\n"
     ]
    }
   ],
   "source": [
    "#TODO train a logit model to predict judge decision (D) from predictors (X). \n",
    "\n",
    "\n",
    "model_log_a_2= LogisticRegression()\n",
    "model_log_a_2.fit(X_a, D_a)\n",
    "\n",
    "model_log_b_2 = LogisticRegression()\n",
    "model_log_b_2.fit(X_b, D_b)\n",
    "\n",
    "# Cross predict for a and b\n",
    "\n",
    "D_hat_a_cross = model_log_b_2.predict(X_a)\n",
    "D_hat_b_cross = model_log_a_2.predict(X_b)\n",
    "\n",
    "D_hat_prob_a_cross = model_log_b_2.predict_proba(X_a)[:,1]\n",
    "D_hat_prob_b_cross = model_log_b_2.predict_proba(X_b)[:,1]\n",
    "\n",
    "print('F1 Score on Test Set (cross score)')\n",
    "print('Sample A: %f' % f1_score(model_log_b_2.predict(X_a), D_a))\n",
    "print('Sample B: %f' % f1_score(model_log_a_2.predict(X_b), D_b))\n",
    "\n",
    "\n",
    "df_pred[\"D_hat\"] = np.concatenate((D_hat_a_cross, D_hat_b_cross))\n",
    "df_pred[\"D_hat_proba\"] = np.concatenate((D_hat_prob_a_cross, D_hat_prob_b_cross))\n",
    "\n",
    "df_pred[\"D\"] = pd.concat([D_a, D_b])\n"
   ]
  },
  {
   "cell_type": "code",
   "execution_count": 245,
   "metadata": {},
   "outputs": [
    {
     "data": {
      "text/html": [
       "<div>\n",
       "<style scoped>\n",
       "    .dataframe tbody tr th:only-of-type {\n",
       "        vertical-align: middle;\n",
       "    }\n",
       "\n",
       "    .dataframe tbody tr th {\n",
       "        vertical-align: top;\n",
       "    }\n",
       "\n",
       "    .dataframe thead th {\n",
       "        text-align: right;\n",
       "    }\n",
       "</style>\n",
       "<table border=\"1\" class=\"dataframe\">\n",
       "  <thead>\n",
       "    <tr style=\"text-align: right;\">\n",
       "      <th></th>\n",
       "      <th>0</th>\n",
       "      <th>1</th>\n",
       "      <th>2</th>\n",
       "      <th>3</th>\n",
       "      <th>4</th>\n",
       "      <th>5</th>\n",
       "      <th>6</th>\n",
       "      <th>7</th>\n",
       "    </tr>\n",
       "  </thead>\n",
       "  <tbody>\n",
       "    <tr>\n",
       "      <th>0</th>\n",
       "      <td>1</td>\n",
       "      <td>0</td>\n",
       "      <td>45</td>\n",
       "      <td>0</td>\n",
       "      <td>0</td>\n",
       "      <td>0</td>\n",
       "      <td>1</td>\n",
       "      <td>0</td>\n",
       "    </tr>\n",
       "    <tr>\n",
       "      <th>1</th>\n",
       "      <td>1</td>\n",
       "      <td>1</td>\n",
       "      <td>35</td>\n",
       "      <td>0</td>\n",
       "      <td>0</td>\n",
       "      <td>2</td>\n",
       "      <td>3</td>\n",
       "      <td>0</td>\n",
       "    </tr>\n",
       "    <tr>\n",
       "      <th>2</th>\n",
       "      <td>1</td>\n",
       "      <td>1</td>\n",
       "      <td>30</td>\n",
       "      <td>0</td>\n",
       "      <td>0</td>\n",
       "      <td>0</td>\n",
       "      <td>9</td>\n",
       "      <td>1</td>\n",
       "    </tr>\n",
       "    <tr>\n",
       "      <th>3</th>\n",
       "      <td>1</td>\n",
       "      <td>1</td>\n",
       "      <td>25</td>\n",
       "      <td>0</td>\n",
       "      <td>0</td>\n",
       "      <td>0</td>\n",
       "      <td>5</td>\n",
       "      <td>1</td>\n",
       "    </tr>\n",
       "    <tr>\n",
       "      <th>4</th>\n",
       "      <td>1</td>\n",
       "      <td>1</td>\n",
       "      <td>21</td>\n",
       "      <td>0</td>\n",
       "      <td>0</td>\n",
       "      <td>0</td>\n",
       "      <td>1</td>\n",
       "      <td>0</td>\n",
       "    </tr>\n",
       "    <tr>\n",
       "      <th>...</th>\n",
       "      <td>...</td>\n",
       "      <td>...</td>\n",
       "      <td>...</td>\n",
       "      <td>...</td>\n",
       "      <td>...</td>\n",
       "      <td>...</td>\n",
       "      <td>...</td>\n",
       "      <td>...</td>\n",
       "    </tr>\n",
       "    <tr>\n",
       "      <th>3602</th>\n",
       "      <td>0</td>\n",
       "      <td>1</td>\n",
       "      <td>50</td>\n",
       "      <td>0</td>\n",
       "      <td>0</td>\n",
       "      <td>0</td>\n",
       "      <td>3</td>\n",
       "      <td>0</td>\n",
       "    </tr>\n",
       "    <tr>\n",
       "      <th>3603</th>\n",
       "      <td>1</td>\n",
       "      <td>0</td>\n",
       "      <td>33</td>\n",
       "      <td>0</td>\n",
       "      <td>0</td>\n",
       "      <td>0</td>\n",
       "      <td>2</td>\n",
       "      <td>0</td>\n",
       "    </tr>\n",
       "    <tr>\n",
       "      <th>3604</th>\n",
       "      <td>1</td>\n",
       "      <td>0</td>\n",
       "      <td>57</td>\n",
       "      <td>0</td>\n",
       "      <td>0</td>\n",
       "      <td>0</td>\n",
       "      <td>2</td>\n",
       "      <td>0</td>\n",
       "    </tr>\n",
       "    <tr>\n",
       "      <th>3605</th>\n",
       "      <td>1</td>\n",
       "      <td>1</td>\n",
       "      <td>33</td>\n",
       "      <td>0</td>\n",
       "      <td>0</td>\n",
       "      <td>0</td>\n",
       "      <td>14</td>\n",
       "      <td>1</td>\n",
       "    </tr>\n",
       "    <tr>\n",
       "      <th>3606</th>\n",
       "      <td>1</td>\n",
       "      <td>1</td>\n",
       "      <td>27</td>\n",
       "      <td>0</td>\n",
       "      <td>0</td>\n",
       "      <td>0</td>\n",
       "      <td>1</td>\n",
       "      <td>0</td>\n",
       "    </tr>\n",
       "  </tbody>\n",
       "</table>\n",
       "<p>3607 rows × 8 columns</p>\n",
       "</div>"
      ],
      "text/plain": [
       "      0  1   2  3  4  5   6  7\n",
       "0     1  0  45  0  0  0   1  0\n",
       "1     1  1  35  0  0  2   3  0\n",
       "2     1  1  30  0  0  0   9  1\n",
       "3     1  1  25  0  0  0   5  1\n",
       "4     1  1  21  0  0  0   1  0\n",
       "...  .. ..  .. .. .. ..  .. ..\n",
       "3602  0  1  50  0  0  0   3  0\n",
       "3603  1  0  33  0  0  0   2  0\n",
       "3604  1  0  57  0  0  0   2  0\n",
       "3605  1  1  33  0  0  0  14  1\n",
       "3606  1  1  27  0  0  0   1  0\n",
       "\n",
       "[3607 rows x 8 columns]"
      ]
     },
     "execution_count": 245,
     "metadata": {},
     "output_type": "execute_result"
    }
   ],
   "source": [
    "pd.DataFrame(pred_a)"
   ]
  },
  {
   "cell_type": "code",
   "execution_count": 246,
   "metadata": {
    "scrolled": false
   },
   "outputs": [
    {
     "name": "stdout",
     "output_type": "stream",
     "text": [
      "F1 Score on Test Set (cross score)\n",
      "Sample A: 0.006711\n",
      "Sample B: 0.000000\n"
     ]
    }
   ],
   "source": [
    "#TODO train a logit model to predict judge decision (D) from predictors (X) and predicted recidivism risk (Yhat)\n",
    "#TODO form clean test-set predictions for the decisions in the full dataset\n",
    "pred_a = np.concatenate((X_a,y_hat_a_cross.reshape(-1,1)), axis = 1)\n",
    "pred_b = np.concatenate((X_b,y_hat_b_cross.reshape(-1,1)), axis = 1)\n",
    "\n",
    "model_log_a_3= LogisticRegression()\n",
    "model_log_a_3.fit(df_pred[predictors + [\"y_hat\"]].iloc[X_a.index,:], D_a)\n",
    "\n",
    "model_log_b_3 = LogisticRegression()\n",
    "model_log_b_3.fit(df_pred[predictors + [\"y_hat\"]].iloc[X_b.index,:], D_b)\n",
    "\n",
    "\n",
    "# Cross predict for a and b\n",
    "\n",
    "\n",
    "D_hat_a_cross_2 = model_log_b_3.predict(df_pred[predictors + [\"y_hat\"]].iloc[X_a.index,:])\n",
    "D_hat_b_cross_2 = model_log_a_3.predict(df_pred[predictors + [\"y_hat\"]].iloc[X_b.index,:])\n",
    "\n",
    "\n",
    "D_hat_prob_a_cross_2 = model_log_b_3.predict_proba(df_pred[predictors + [\"y_hat\"]].iloc[X_a.index,:])[:,1]\n",
    "D_hat_prob_b_cross_2 = model_log_b_3.predict_proba(df_pred[predictors + [\"y_hat\"]].iloc[X_b.index,:])[:,1]\n",
    "\n",
    "\n",
    "print('F1 Score on Test Set (cross score)')\n",
    "print('Sample A: %f' % f1_score(D_a, D_hat_a_cross_2))\n",
    "print('Sample B: %f' % f1_score(D_b, D_hat_b_cross_2))\n",
    "\n",
    "df_pred[\"D_hat_y\"] = np.concatenate((D_hat_a_cross_2, D_hat_b_cross_2))\n",
    "df_pred[\"D_hat_y_proba\"] = np.concatenate((D_hat_prob_a_cross_2, D_hat_prob_b_cross_2))\n",
    "\n",
    "\n"
   ]
  },
  {
   "cell_type": "code",
   "execution_count": 247,
   "metadata": {},
   "outputs": [
    {
     "data": {
      "text/plain": [
       "(3607, 7)"
      ]
     },
     "execution_count": 247,
     "metadata": {},
     "output_type": "execute_result"
    }
   ],
   "source": [
    "X_a.shape"
   ]
  },
  {
   "cell_type": "markdown",
   "metadata": {},
   "source": [
    "### Compare treatment of whites and non-whites for recidivism prediction"
   ]
  },
  {
   "cell_type": "code",
   "execution_count": 248,
   "metadata": {},
   "outputs": [
    {
     "name": "stdout",
     "output_type": "stream",
     "text": [
      "NW == 1\n",
      "(4760,)\n",
      "[[2392  406]\n",
      " [1419  543]]\n",
      "              precision    recall  f1-score   support\n",
      "\n",
      "           0       0.63      0.85      0.72      2798\n",
      "           1       0.57      0.28      0.37      1962\n",
      "\n",
      "    accuracy                           0.62      4760\n",
      "   macro avg       0.60      0.57      0.55      4760\n",
      "weighted avg       0.60      0.62      0.58      4760\n",
      "\n",
      "False Positive/False Negative:  0.2861169837914024\n",
      "NW == 0\n",
      "(2454,)\n",
      "[[1396   89]\n",
      " [ 807  162]]\n",
      "              precision    recall  f1-score   support\n",
      "\n",
      "           0       0.63      0.94      0.76      1485\n",
      "           1       0.65      0.17      0.27       969\n",
      "\n",
      "    accuracy                           0.63      2454\n",
      "   macro avg       0.64      0.55      0.51      2454\n",
      "weighted avg       0.64      0.63      0.56      2454\n",
      "\n",
      "False Positive/False Negative:  0.11028500619578686\n",
      "WIth including Y_hat as a predictor!\n",
      "NW == 1\n",
      "(4760,)\n",
      "[[2793    5]\n",
      " [1959    3]]\n",
      "              precision    recall  f1-score   support\n",
      "\n",
      "           0       0.59      1.00      0.74      2798\n",
      "           1       0.38      0.00      0.00      1962\n",
      "\n",
      "    accuracy                           0.59      4760\n",
      "   macro avg       0.48      0.50      0.37      4760\n",
      "weighted avg       0.50      0.59      0.44      4760\n",
      "\n",
      "False Positive/False Negative:  0.002552322613578356\n",
      "NW == 1\n",
      "(2454,)\n",
      "[[1479    6]\n",
      " [ 967    2]]\n",
      "              precision    recall  f1-score   support\n",
      "\n",
      "           0       0.60      1.00      0.75      1485\n",
      "           1       0.25      0.00      0.00       969\n",
      "\n",
      "    accuracy                           0.60      2454\n",
      "   macro avg       0.43      0.50      0.38      2454\n",
      "weighted avg       0.46      0.60      0.46      2454\n",
      "\n",
      "False Positive/False Negative:  0.0062047569803516025\n"
     ]
    }
   ],
   "source": [
    "##TODO Produce confusion matrices, classification reports, and ratio of false positives to false negatives, \n",
    "##TODO separately for whites and non-whites, and with/without including Y-hat as a predictor.\n",
    "\n",
    "##TODO Produce confusion matrices, classification reports, and ratio of false positives to false negatives, separately for whites and non-whites.\n",
    "NW_sorted = np.concatenate((NW_a, NW_b))\n",
    "\n",
    "D_hat= np.concatenate((D_hat_a_cross, D_hat_b_cross))\n",
    "D_true = np.concatenate((D_a, D_b))\n",
    "D_hat_probs = np.concatenate((model_log_b_2.predict_proba(X_a)[:,1], model_log_a_2.predict_proba(X_b)[:,1]))\n",
    "\n",
    "\n",
    "# FOR NW == 1\n",
    "print(\"NW == 1\")\n",
    "print(df_pred[\"D_hat\"][NW_sorted==1].shape)\n",
    "print(confusion_matrix(df_pred[\"D\"][NW_sorted==1], df_pred[\"D_hat\"][NW_sorted==1]))\n",
    "print(classification_report(df_pred[\"D\"][NW_sorted == 1], df_pred[\"D_hat\"][NW_sorted == 1]))\n",
    "tn, fp, fn, tp = confusion_matrix(df_pred['D'][NW_sorted==1], df_pred['D_hat'][NW_sorted==1]).ravel()\n",
    "print('False Positive/False Negative: ', fp/fn)\n",
    "\n",
    "# FOR NW==0\n",
    "print(\"NW == 0\")\n",
    "print(df_pred[\"D\"][NW_sorted==0].shape)\n",
    "print(confusion_matrix(df_pred[\"D\"][NW_sorted==0], df_pred[\"D_hat\"][NW_sorted==0]))\n",
    "print(classification_report(df_pred[\"D\"][NW_sorted == 0], df_pred[\"D_hat\"][NW_sorted == 0]))\n",
    "tn, fp, fn, tp = confusion_matrix(df_pred['D'][NW_sorted==0], df_pred['D_hat'][NW_sorted==0]).ravel()\n",
    "print('False Positive/False Negative: ', fp/fn)\n",
    "\n",
    "\n",
    "######\n",
    "\n",
    "D_hat_2= np.concatenate((D_hat_a_cross_2, D_hat_b_cross_2))\n",
    "D_true = np.concatenate((D_a, D_b))\n",
    "D_hat_probs_2 = np.concatenate((model_log_b_3.predict_proba(pred_a)[:,1], model_log_a_3.predict_proba(pred_b)[:,1]))\n",
    "\n",
    "print(\"WIth including Y_hat as a predictor!\")\n",
    "\n",
    "# FOR NW == 1\n",
    "print(\"NW == 1\")\n",
    "print(df_pred[\"D_hat_y\"][NW_sorted==1].shape)\n",
    "print(confusion_matrix(df_pred[\"D\"][NW_sorted==1], df_pred[\"D_hat_y\"][NW_sorted==1]))\n",
    "print(classification_report(df_pred[\"D\"][NW_sorted == 1], df_pred[\"D_hat_y\"][NW_sorted == 1]))\n",
    "tn, fp, fn, tp = confusion_matrix(df_pred['D'][NW_sorted==1], df_pred['D_hat_y'][NW_sorted==1]).ravel()\n",
    "print('False Positive/False Negative: ', fp/fn)\n",
    "\n",
    "# FOR NW==0\n",
    "print(\"NW == 1\")\n",
    "print(df_pred[\"D_hat_y\"][NW_sorted==0].shape)\n",
    "print(confusion_matrix(df_pred[\"D\"][NW_sorted==0], df_pred[\"D_hat_y\"][NW_sorted==0]))\n",
    "print(classification_report(df_pred[\"D\"][NW_sorted == 0], df_pred[\"D_hat_y\"][NW_sorted == 0]))\n",
    "tn, fp, fn, tp = confusion_matrix(df_pred['D'][NW_sorted==0], df_pred['D_hat_y'][NW_sorted==0]).ravel()\n",
    "print('False Positive/False Negative: ', fp/fn)\n",
    "\n"
   ]
  },
  {
   "cell_type": "markdown",
   "metadata": {},
   "source": [
    "### Enforcing Statistical Parity"
   ]
  },
  {
   "cell_type": "markdown",
   "metadata": {},
   "source": [
    "In this part you will find the the group-specific thresholds for both models of judges' decision (with/without Yhat) that obtain statistical parity.\n",
    "\n",
    "You can use a custom classifier `threshold` for the decision with this type of code snippet: `decisions = (logit.predict_proba(X) >= threshold).astype(int)`."
   ]
  },
  {
   "cell_type": "markdown",
   "metadata": {},
   "source": [
    "#### Model without Yhat"
   ]
  },
  {
   "cell_type": "code",
   "execution_count": 256,
   "metadata": {
    "scrolled": true
   },
   "outputs": [
    {
     "name": "stdout",
     "output_type": "stream",
     "text": [
      "Threshold upper 0.780000\n",
      "Mean w 0.004075\n",
      "mean nw 0.011765\n",
      "Threshold lower 0.220000\n",
      "Mean w 0.995110\n",
      "mean nw 0.999160\n"
     ]
    }
   ],
   "source": [
    "##Find the largest and lowest thresholds to enforce statistical parity\n",
    "##hint: build a recursive function to find the probability threshold that minimizes \n",
    "## the difference between the predicted outcomes for whites and non whites\n",
    "\n",
    "\n",
    "threshold = 0.5\n",
    "eps = .01\n",
    "difference = 1\n",
    "\n",
    "while difference > eps:\n",
    "    threshold += 0.01\n",
    "    decisions_w = (df_pred[\"D_hat_proba\"][NW_sorted == 0]>=threshold).astype(int)\n",
    "    decisions_nw = (df_pred[\"D_hat_proba\"][NW_sorted == 1] >= threshold).astype(int)\n",
    "    \n",
    "    y_hat_mean_w = decisions_w.mean()\n",
    "    y_hat_mean_nw = decisions_nw.mean()\n",
    "    \n",
    "    difference = abs(y_hat_mean_w - y_hat_mean_nw)\n",
    "print(\"Threshold upper %f\" %threshold)\n",
    "print(\"Mean w %f\" %y_hat_mean_w)\n",
    "print(\"mean nw %f\" %y_hat_mean_nw)\n",
    "\n",
    "threshold = 0.5\n",
    "difference = 1\n",
    "while difference > eps:\n",
    "    threshold -= 0.01\n",
    "    decisions_w = (df_pred[\"D_hat_proba\"][NW_sorted == 0]>=threshold).astype(int)\n",
    "    decisions_nw = (df_pred[\"D_hat_proba\"][NW_sorted == 1] >= threshold).astype(int)\n",
    "    \n",
    "    y_hat_mean_w = decisions_w.mean()\n",
    "    y_hat_mean_nw = decisions_nw.mean()\n",
    "    \n",
    "    difference = abs(y_hat_mean_w - y_hat_mean_nw)\n",
    "print(\"Threshold lower %f\" %threshold)\n",
    "print(\"Mean w %f\" %y_hat_mean_w)\n",
    "print(\"mean nw %f\" %y_hat_mean_nw)\n"
   ]
  },
  {
   "cell_type": "code",
   "execution_count": null,
   "metadata": {},
   "outputs": [],
   "source": []
  },
  {
   "cell_type": "markdown",
   "metadata": {},
   "source": [
    "#### Model with Yhat"
   ]
  },
  {
   "cell_type": "code",
   "execution_count": 255,
   "metadata": {
    "scrolled": true
   },
   "outputs": [
    {
     "name": "stdout",
     "output_type": "stream",
     "text": [
      "Threshold upper 0.510000\n",
      "Mean w 0.004482\n",
      "mean nw 0.001471\n",
      "Threshold lower 0.490000\n",
      "Mean w 0.005705\n",
      "mean nw 0.003992\n"
     ]
    }
   ],
   "source": [
    "##Find the largest and lowest thresholds to enforce statistical parity\n",
    "##hint: build a recursive function to find the probability threshold that minimizes \n",
    "## the difference between the predicted outcomes for whites and non whites\n",
    "\n",
    "\n",
    "##Find the largest and lowest thresholds to enforce statistical parity\n",
    "##hint: build a recursive function to find the probability threshold that minimizes \n",
    "## the difference between the predicted outcomes for whites and non whites\n",
    "\n",
    "\n",
    "threshold = 0.5\n",
    "eps = .01\n",
    "difference = 1\n",
    "\n",
    "while difference > eps:\n",
    "    threshold += 0.01\n",
    "    decisions_w = (df_pred[\"D_hat_y_proba\"][NW_sorted == 0]>=threshold).astype(int)\n",
    "    decisions_nw = (df_pred[\"D_hat_y_proba\"][NW_sorted == 1] >= threshold).astype(int)\n",
    "    \n",
    "    y_hat_mean_w = decisions_w.mean()\n",
    "    y_hat_mean_nw = decisions_nw.mean()\n",
    "    \n",
    "    difference = abs(y_hat_mean_w - y_hat_mean_nw)\n",
    "print(\"Threshold upper %f\" %threshold)\n",
    "print(\"Mean w %f\" %y_hat_mean_w)\n",
    "print(\"mean nw %f\" %y_hat_mean_nw)\n",
    "\n",
    "threshold = 0.5\n",
    "difference = 1\n",
    "while difference > eps:\n",
    "    threshold -= 0.01\n",
    "    decisions_w = (df_pred[\"D_hat_y_proba\"][NW_sorted == 0]>=threshold).astype(int)\n",
    "    decisions_nw = (df_pred[\"D_hat_y_proba\"][NW_sorted == 1] >= threshold).astype(int)\n",
    "    \n",
    "    y_hat_mean_w = decisions_w.mean()\n",
    "    y_hat_mean_nw = decisions_nw.mean()\n",
    "    \n",
    "    difference = abs(y_hat_mean_w - y_hat_mean_nw)\n",
    "print(\"Threshold lower %f\" %threshold)\n",
    "print(\"Mean w %f\" %y_hat_mean_w)\n",
    "print(\"mean nw %f\" %y_hat_mean_nw)\n"
   ]
  },
  {
   "cell_type": "markdown",
   "metadata": {},
   "source": [
    "# Bonus 1: More Fairness Constraints"
   ]
  },
  {
   "cell_type": "markdown",
   "metadata": {},
   "source": [
    "Find the threshold for both models (with/without Yhat) that obtains error rate balance (equality of recalls for each class."
   ]
  },
  {
   "cell_type": "code",
   "execution_count": 251,
   "metadata": {},
   "outputs": [],
   "source": [
    "##TODO"
   ]
  },
  {
   "cell_type": "markdown",
   "metadata": {},
   "source": [
    "Find the threshold for both models (with/without Yhat) that obtains predictive parity (equality of precisions for each class)."
   ]
  },
  {
   "cell_type": "code",
   "execution_count": 252,
   "metadata": {},
   "outputs": [],
   "source": [
    "##TODO"
   ]
  },
  {
   "cell_type": "markdown",
   "metadata": {},
   "source": [
    "Find the threshold for both models (with/without Yhat) that obtains treatment equality (ratio of false positives to false negatives)."
   ]
  },
  {
   "cell_type": "code",
   "execution_count": 253,
   "metadata": {
    "scrolled": true
   },
   "outputs": [],
   "source": [
    "##TODO"
   ]
  },
  {
   "cell_type": "markdown",
   "metadata": {},
   "source": [
    "# Bonus 2: Pre-Processing for Fairness"
   ]
  },
  {
   "cell_type": "markdown",
   "metadata": {},
   "source": [
    "Regress all predictors in `X` on the protected attribute `A` and produce residuals `Xtilde`. Re-do the prediction task above (predicting judges' decision) and discuss how it changes the fairness metrics."
   ]
  },
  {
   "cell_type": "code",
   "execution_count": 254,
   "metadata": {},
   "outputs": [],
   "source": [
    "##TODO"
   ]
  }
 ],
 "metadata": {
  "kernelspec": {
   "display_name": "Python 3 (ipykernel)",
   "language": "python",
   "name": "python3"
  },
  "language_info": {
   "codemirror_mode": {
    "name": "ipython",
    "version": 3
   },
   "file_extension": ".py",
   "mimetype": "text/x-python",
   "name": "python",
   "nbconvert_exporter": "python",
   "pygments_lexer": "ipython3",
   "version": "3.9.7"
  }
 },
 "nbformat": 4,
 "nbformat_minor": 4
}
