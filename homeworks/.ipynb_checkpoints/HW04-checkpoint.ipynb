{
 "cells": [
  {
   "cell_type": "markdown",
   "id": "4c680b93",
   "metadata": {},
   "source": [
    "# HW04: RDD and Diff-in-Diff (due 26th October)\n",
    "\n",
    "**You will have to solve only one of the two parts (either the RDD or the DiD) to get full credit for this homework.**\n",
    "\n",
    "In this homework you will investigate the causal effect in two different settings, applying different **identification strategies**, You will also reflect and investigate the identification assumptions that allow for a causal interpretation. "
   ]
  },
  {
   "cell_type": "markdown",
   "id": "09c05807",
   "metadata": {},
   "source": [
    "## Regression Discontinuity Design\n",
    "\n",
    "In this first part you will use data on mayors from municipalities in Brazil to invesitgate th effect of electoral accountability on corruption. The goal is to estimate the effect of being eligible for reelection (having reelection incentives) on misappropriation of resources exploiting random audits on municipalities before the elections. In Brazil there is a two mandate limit for mayors, implying that only mayors in the first mandate can be reelected. The reference paper is [Ferraz and Finan (2011)](https://www.aeaweb.org/articles?id=10.1257/aer.101.4.1274)."
   ]
  },
  {
   "cell_type": "code",
   "execution_count": 1,
   "id": "78cbdac9",
   "metadata": {},
   "outputs": [
    {
     "name": "stdout",
     "output_type": "stream",
     "text": [
      "Collecting rdrobust\n",
      "  Downloading rdrobust-1.0.6-py3-none-any.whl (30 kB)\n",
      "Collecting plotnine\n",
      "  Downloading plotnine-0.10.1-py3-none-any.whl (1.2 MB)\n",
      "Requirement already satisfied: scipy in c:\\users\\joppe\\anaconda3\\lib\\site-packages (from rdrobust) (1.7.1)\n",
      "Requirement already satisfied: numpy in c:\\users\\joppe\\anaconda3\\lib\\site-packages (from rdrobust) (1.20.3)\n",
      "Requirement already satisfied: pandas in c:\\users\\joppe\\anaconda3\\lib\\site-packages (from rdrobust) (1.3.4)\n",
      "Collecting sklearn\n",
      "  Using cached sklearn-0.0.tar.gz (1.1 kB)\n",
      "Requirement already satisfied: python-dateutil>=2.7.3 in c:\\users\\joppe\\anaconda3\\lib\\site-packages (from pandas->rdrobust) (2.8.2)\n",
      "Requirement already satisfied: pytz>=2017.3 in c:\\users\\joppe\\anaconda3\\lib\\site-packages (from pandas->rdrobust) (2021.3)\n",
      "Requirement already satisfied: six>=1.5 in c:\\users\\joppe\\anaconda3\\lib\\site-packages (from python-dateutil>=2.7.3->pandas->rdrobust) (1.16.0)\n",
      "Collecting statsmodels>=0.13.2\n",
      "  Downloading statsmodels-0.13.2-cp39-cp39-win_amd64.whl (9.1 MB)\n",
      "Requirement already satisfied: patsy>=0.5.1 in c:\\users\\joppe\\anaconda3\\lib\\site-packages (from plotnine->rdrobust) (0.5.2)\n",
      "Collecting pandas\n",
      "  Downloading pandas-1.5.1-cp39-cp39-win_amd64.whl (10.9 MB)\n",
      "Collecting matplotlib>=3.5.0\n",
      "  Downloading matplotlib-3.6.1-cp39-cp39-win_amd64.whl (7.2 MB)\n",
      "Collecting mizani>=0.8.1\n",
      "  Downloading mizani-0.8.1-py3-none-any.whl (64 kB)\n",
      "Requirement already satisfied: kiwisolver>=1.0.1 in c:\\users\\joppe\\anaconda3\\lib\\site-packages (from matplotlib>=3.5.0->plotnine->rdrobust) (1.3.1)\n",
      "Requirement already satisfied: cycler>=0.10 in c:\\users\\joppe\\anaconda3\\lib\\site-packages (from matplotlib>=3.5.0->plotnine->rdrobust) (0.10.0)\n",
      "Requirement already satisfied: fonttools>=4.22.0 in c:\\users\\joppe\\anaconda3\\lib\\site-packages (from matplotlib>=3.5.0->plotnine->rdrobust) (4.25.0)\n",
      "Requirement already satisfied: pillow>=6.2.0 in c:\\users\\joppe\\anaconda3\\lib\\site-packages (from matplotlib>=3.5.0->plotnine->rdrobust) (8.4.0)\n",
      "Requirement already satisfied: packaging>=20.0 in c:\\users\\joppe\\anaconda3\\lib\\site-packages (from matplotlib>=3.5.0->plotnine->rdrobust) (21.0)\n",
      "Collecting contourpy>=1.0.1\n",
      "  Downloading contourpy-1.0.5-cp39-cp39-win_amd64.whl (161 kB)\n",
      "Requirement already satisfied: pyparsing>=2.2.1 in c:\\users\\joppe\\anaconda3\\lib\\site-packages (from matplotlib>=3.5.0->plotnine->rdrobust) (3.0.4)\n",
      "Collecting tzdata\n",
      "  Downloading tzdata-2022.5-py2.py3-none-any.whl (336 kB)\n",
      "Collecting palettable\n",
      "  Downloading palettable-3.3.0-py2.py3-none-any.whl (111 kB)\n",
      "Collecting packaging>=20.0\n",
      "  Downloading packaging-21.3-py3-none-any.whl (40 kB)\n",
      "Requirement already satisfied: scikit-learn in c:\\users\\joppe\\anaconda3\\lib\\site-packages (from sklearn->rdrobust) (0.24.2)\n",
      "Requirement already satisfied: threadpoolctl>=2.0.0 in c:\\users\\joppe\\anaconda3\\lib\\site-packages (from scikit-learn->sklearn->rdrobust) (2.2.0)\n",
      "Requirement already satisfied: joblib>=0.11 in c:\\users\\joppe\\anaconda3\\lib\\site-packages (from scikit-learn->sklearn->rdrobust) (1.1.0)\n",
      "Building wheels for collected packages: sklearn\n",
      "  Building wheel for sklearn (setup.py): started\n",
      "  Building wheel for sklearn (setup.py): finished with status 'done'\n",
      "  Created wheel for sklearn: filename=sklearn-0.0-py2.py3-none-any.whl size=1309 sha256=5f60ce158042c6597e6c90ecf939e5f7d2040187e3fe35625602797b5e80b91c\n",
      "  Stored in directory: c:\\users\\joppe\\appdata\\local\\pip\\cache\\wheels\\e4\\7b\\98\\b6466d71b8d738a0c547008b9eb39bf8676d1ff6ca4b22af1c\n",
      "Successfully built sklearn\n",
      "Installing collected packages: packaging, contourpy, tzdata, pandas, palettable, matplotlib, statsmodels, mizani, sklearn, plotnine, rdrobust\n",
      "  Attempting uninstall: packaging\n",
      "    Found existing installation: packaging 21.0\n",
      "    Uninstalling packaging-21.0:\n",
      "      Successfully uninstalled packaging-21.0\n",
      "  Attempting uninstall: pandas\n",
      "    Found existing installation: pandas 1.3.4\n",
      "    Uninstalling pandas-1.3.4:\n",
      "      Successfully uninstalled pandas-1.3.4\n",
      "  Attempting uninstall: matplotlib\n",
      "    Found existing installation: matplotlib 3.4.3\n",
      "    Uninstalling matplotlib-3.4.3:\n",
      "      Successfully uninstalled matplotlib-3.4.3\n",
      "  Attempting uninstall: statsmodels\n",
      "    Found existing installation: statsmodels 0.12.2\n",
      "    Uninstalling statsmodels-0.12.2:\n",
      "      Successfully uninstalled statsmodels-0.12.2\n",
      "Successfully installed contourpy-1.0.5 matplotlib-3.6.1 mizani-0.8.1 packaging-21.3 palettable-3.3.0 pandas-1.5.1 plotnine-0.10.1 rdrobust-1.0.6 sklearn-0.0 statsmodels-0.13.2 tzdata-2022.5\n"
     ]
    }
   ],
   "source": [
    "!pip install rdrobust"
   ]
  },
  {
   "cell_type": "code",
   "execution_count": 2,
   "id": "84478a61",
   "metadata": {},
   "outputs": [],
   "source": [
    "from rdrobust import rdrobust, rdbwselect, rdplot\n",
    "import pandas as pd \n",
    "import warnings\n",
    "warnings.filterwarnings('ignore', category=FutureWarning)\n",
    "warnings.filterwarnings('ignore', category=DeprecationWarning)\n",
    "warnings.filterwarnings = lambda *a, **kw: None\n"
   ]
  },
  {
   "cell_type": "code",
   "execution_count": 7,
   "id": "5b822075",
   "metadata": {},
   "outputs": [
    {
     "name": "stderr",
     "output_type": "stream",
     "text": [
      "C:\\Users\\joppe\\AppData\\Local\\Temp/ipykernel_9060/3326970585.py:1: UnicodeWarning: \n",
      "One or more strings in the dta file could not be decoded using utf-8, and\n",
      "so the fallback encoding of latin-1 is being used.  This can happen when a file\n",
      "has been incorrectly encoded by Stata or some other software. You should verify\n",
      "the string values returned are correct.\n"
     ]
    },
    {
     "data": {
      "text/plain": [
       "(476, 46)"
      ]
     },
     "execution_count": 7,
     "metadata": {},
     "output_type": "execute_result"
    }
   ],
   "source": [
    "df = pd.read_stata('data/HW04_data_rdd.dta')\n",
    "df.describe()\n",
    "df.shape"
   ]
  },
  {
   "cell_type": "code",
   "execution_count": 17,
   "id": "c8f63899",
   "metadata": {},
   "outputs": [
    {
     "name": "stderr",
     "output_type": "stream",
     "text": [
      "C:\\Users\\joppe\\AppData\\Local\\Temp/ipykernel_9060/1581965592.py:1: UnicodeWarning: \n",
      "One or more strings in the dta file could not be decoded using utf-8, and\n",
      "so the fallback encoding of latin-1 is being used.  This can happen when a file\n",
      "has been incorrectly encoded by Stata or some other software. You should verify\n",
      "the string values returned are correct.\n"
     ]
    },
    {
     "data": {
      "text/plain": [
       "{'uf': 'state',\n",
       " 'nsorteio': 'Número do sorteio',\n",
       " 'totrecursos': 'Total de recurso fiscalizado no municipio',\n",
       " 'tot_os': 'Total de OS fiscalizadas no municipio',\n",
       " 'pop': 'População no ano de 2000',\n",
       " 'purb': 'Proporção da população urbana no ano de 2000',\n",
       " 'p_secundario': 'Proporção da população com 18 anos ou mais com secundario completo',\n",
       " 'cod_ibge6': 'cod_ibge6',\n",
       " 'pib_capita_02': 'PIB per capita deflacionado em reais de 2001',\n",
       " 'op_01_04': 'Dummy se o munic teve orçamento participativo no periodo',\n",
       " 'reeleito': 'Dummy de reeleição',\n",
       " 'ENEP2000': '2000 ENEP',\n",
       " 'ENLP2000': '2000 ENLP',\n",
       " 'pref_idade_tse': 'Idade do prefeito',\n",
       " 'comarca': 'Sede de Comarca',\n",
       " 'reeleito_2004': 'Dummy dos candidatos que se reelegeram na eleição de 2004',\n",
       " 'p_cad_pref': 'Proporção de vereadores eleitos do mesmo partido do prefeito',\n",
       " 'rec_transf_correntes': '(mean) rec_transf_correntes',\n",
       " 'gini_ipea': '',\n",
       " 'fiscalizacoes': 'Total ordens de serviço dada pela planilha CGU',\n",
       " 'valor_fiscalizado': 'Total ordens de serviço dada pela planilha CGU',\n",
       " 'incumbent': '(sum) incumbent',\n",
       " 'vereador9600': '',\n",
       " 'pmismanagement': '',\n",
       " 'elected1': '',\n",
       " 'first': '',\n",
       " 'lpib02': '',\n",
       " 'lpop': '',\n",
       " 'pref_masc': '',\n",
       " 'pref_escola': '',\n",
       " 'media2': '',\n",
       " 'vereador_eleit': '',\n",
       " 'mun_novo': '',\n",
       " 'exp_prefeito': '',\n",
       " 'samepartygov98': '',\n",
       " 'lrec_trans': '',\n",
       " 'lfunc_ativ': '',\n",
       " 'lrec_fisc': '',\n",
       " 'ncorrupt': '',\n",
       " 'valor_corrupt': '',\n",
       " 'pcorrupt': '',\n",
       " 'dcorrupt': '',\n",
       " 'esample2': '',\n",
       " 'wm': 'vote margin',\n",
       " 'winning_margin': 'running variable',\n",
       " 'party': 'party affiliation'}"
      ]
     },
     "execution_count": 17,
     "metadata": {},
     "output_type": "execute_result"
    }
   ],
   "source": [
    "df_labels = pd.read_stata('data/HW04_data_rdd.dta', iterator=True).variable_labels()\n",
    "df_labels"
   ]
  },
  {
   "cell_type": "code",
   "execution_count": 6,
   "id": "30b2c897",
   "metadata": {
    "scrolled": true
   },
   "outputs": [
    {
     "data": {
      "text/html": [
       "<div>\n",
       "<style scoped>\n",
       "    .dataframe tbody tr th:only-of-type {\n",
       "        vertical-align: middle;\n",
       "    }\n",
       "\n",
       "    .dataframe tbody tr th {\n",
       "        vertical-align: top;\n",
       "    }\n",
       "\n",
       "    .dataframe thead th {\n",
       "        text-align: right;\n",
       "    }\n",
       "</style>\n",
       "<table border=\"1\" class=\"dataframe\">\n",
       "  <thead>\n",
       "    <tr style=\"text-align: right;\">\n",
       "      <th></th>\n",
       "      <th>uf</th>\n",
       "      <th>nsorteio</th>\n",
       "      <th>totrecursos</th>\n",
       "      <th>tot_os</th>\n",
       "      <th>pop</th>\n",
       "      <th>purb</th>\n",
       "      <th>p_secundario</th>\n",
       "      <th>cod_ibge6</th>\n",
       "      <th>pib_capita_02</th>\n",
       "      <th>op_01_04</th>\n",
       "      <th>...</th>\n",
       "      <th>lfunc_ativ</th>\n",
       "      <th>lrec_fisc</th>\n",
       "      <th>ncorrupt</th>\n",
       "      <th>valor_corrupt</th>\n",
       "      <th>pcorrupt</th>\n",
       "      <th>dcorrupt</th>\n",
       "      <th>esample2</th>\n",
       "      <th>wm</th>\n",
       "      <th>winning_margin</th>\n",
       "      <th>party</th>\n",
       "    </tr>\n",
       "  </thead>\n",
       "  <tbody>\n",
       "    <tr>\n",
       "      <th>0</th>\n",
       "      <td>RO</td>\n",
       "      <td>5</td>\n",
       "      <td>6913597.38</td>\n",
       "      <td>47.0</td>\n",
       "      <td>18207</td>\n",
       "      <td>0.815401</td>\n",
       "      <td>0.248250</td>\n",
       "      <td>566128.0</td>\n",
       "      <td>3548.000977</td>\n",
       "      <td>0</td>\n",
       "      <td>...</td>\n",
       "      <td>6.167517</td>\n",
       "      <td>15.749001</td>\n",
       "      <td>3.0</td>\n",
       "      <td>672785.125</td>\n",
       "      <td>0.097313</td>\n",
       "      <td>1.0</td>\n",
       "      <td>1.0</td>\n",
       "      <td>0.030935</td>\n",
       "      <td>-0.030935</td>\n",
       "      <td>16</td>\n",
       "    </tr>\n",
       "    <tr>\n",
       "      <th>1</th>\n",
       "      <td>RO</td>\n",
       "      <td>7</td>\n",
       "      <td>7135210.78</td>\n",
       "      <td>62.0</td>\n",
       "      <td>10459</td>\n",
       "      <td>0.198203</td>\n",
       "      <td>0.110925</td>\n",
       "      <td>566130.0</td>\n",
       "      <td>4203.421875</td>\n",
       "      <td>0</td>\n",
       "      <td>...</td>\n",
       "      <td>5.641907</td>\n",
       "      <td>15.780552</td>\n",
       "      <td>0.0</td>\n",
       "      <td>0.000</td>\n",
       "      <td>0.000000</td>\n",
       "      <td>0.0</td>\n",
       "      <td>1.0</td>\n",
       "      <td>0.172863</td>\n",
       "      <td>0.172863</td>\n",
       "      <td>3</td>\n",
       "    </tr>\n",
       "    <tr>\n",
       "      <th>2</th>\n",
       "      <td>RO</td>\n",
       "      <td>2</td>\n",
       "      <td>26821074.06</td>\n",
       "      <td>140.0</td>\n",
       "      <td>40884</td>\n",
       "      <td>0.649178</td>\n",
       "      <td>0.254702</td>\n",
       "      <td>566138.0</td>\n",
       "      <td>3904.267334</td>\n",
       "      <td>0</td>\n",
       "      <td>...</td>\n",
       "      <td>6.872128</td>\n",
       "      <td>17.104698</td>\n",
       "      <td>1.0</td>\n",
       "      <td>0.000</td>\n",
       "      <td>0.000000</td>\n",
       "      <td>1.0</td>\n",
       "      <td>1.0</td>\n",
       "      <td>0.310956</td>\n",
       "      <td>0.310956</td>\n",
       "      <td>18</td>\n",
       "    </tr>\n",
       "    <tr>\n",
       "      <th>3</th>\n",
       "      <td>RO</td>\n",
       "      <td>4</td>\n",
       "      <td>14710780.70</td>\n",
       "      <td>89.0</td>\n",
       "      <td>47382</td>\n",
       "      <td>0.726457</td>\n",
       "      <td>0.267212</td>\n",
       "      <td>566151.0</td>\n",
       "      <td>4081.257812</td>\n",
       "      <td>0</td>\n",
       "      <td>...</td>\n",
       "      <td>6.979145</td>\n",
       "      <td>16.504091</td>\n",
       "      <td>0.0</td>\n",
       "      <td>0.000</td>\n",
       "      <td>0.000000</td>\n",
       "      <td>0.0</td>\n",
       "      <td>1.0</td>\n",
       "      <td>0.391912</td>\n",
       "      <td>0.391912</td>\n",
       "      <td>18</td>\n",
       "    </tr>\n",
       "    <tr>\n",
       "      <th>4</th>\n",
       "      <td>RO</td>\n",
       "      <td>3</td>\n",
       "      <td>4181534.83</td>\n",
       "      <td>NaN</td>\n",
       "      <td>23874</td>\n",
       "      <td>0.271257</td>\n",
       "      <td>0.134546</td>\n",
       "      <td>566155.0</td>\n",
       "      <td>2192.473633</td>\n",
       "      <td>1</td>\n",
       "      <td>...</td>\n",
       "      <td>6.118097</td>\n",
       "      <td>15.246189</td>\n",
       "      <td>0.0</td>\n",
       "      <td>0.000</td>\n",
       "      <td>0.000000</td>\n",
       "      <td>0.0</td>\n",
       "      <td>1.0</td>\n",
       "      <td>0.186155</td>\n",
       "      <td>0.186155</td>\n",
       "      <td>14</td>\n",
       "    </tr>\n",
       "  </tbody>\n",
       "</table>\n",
       "<p>5 rows × 46 columns</p>\n",
       "</div>"
      ],
      "text/plain": [
       "   uf  nsorteio  totrecursos  tot_os    pop      purb  p_secundario  \\\n",
       "0  RO         5   6913597.38    47.0  18207  0.815401      0.248250   \n",
       "1  RO         7   7135210.78    62.0  10459  0.198203      0.110925   \n",
       "2  RO         2  26821074.06   140.0  40884  0.649178      0.254702   \n",
       "3  RO         4  14710780.70    89.0  47382  0.726457      0.267212   \n",
       "4  RO         3   4181534.83     NaN  23874  0.271257      0.134546   \n",
       "\n",
       "   cod_ibge6  pib_capita_02  op_01_04  ...  lfunc_ativ  lrec_fisc  ncorrupt  \\\n",
       "0   566128.0    3548.000977         0  ...    6.167517  15.749001       3.0   \n",
       "1   566130.0    4203.421875         0  ...    5.641907  15.780552       0.0   \n",
       "2   566138.0    3904.267334         0  ...    6.872128  17.104698       1.0   \n",
       "3   566151.0    4081.257812         0  ...    6.979145  16.504091       0.0   \n",
       "4   566155.0    2192.473633         1  ...    6.118097  15.246189       0.0   \n",
       "\n",
       "   valor_corrupt  pcorrupt  dcorrupt  esample2        wm  winning_margin  \\\n",
       "0     672785.125  0.097313       1.0       1.0  0.030935       -0.030935   \n",
       "1          0.000  0.000000       0.0       1.0  0.172863        0.172863   \n",
       "2          0.000  0.000000       1.0       1.0  0.310956        0.310956   \n",
       "3          0.000  0.000000       0.0       1.0  0.391912        0.391912   \n",
       "4          0.000  0.000000       0.0       1.0  0.186155        0.186155   \n",
       "\n",
       "   party  \n",
       "0     16  \n",
       "1      3  \n",
       "2     18  \n",
       "3     18  \n",
       "4     14  \n",
       "\n",
       "[5 rows x 46 columns]"
      ]
     },
     "execution_count": 6,
     "metadata": {},
     "output_type": "execute_result"
    }
   ],
   "source": [
    "df = df[df['esample2']==1]\n",
    "df.head()"
   ]
  },
  {
   "cell_type": "markdown",
   "id": "ee308a57",
   "metadata": {},
   "source": [
    "The main outcome of interest is *pcorrupt*, namely, the share of audited resources found that involve corruption (a measure of misappropriation). The explanatory variable is *first*, a dummy variable indicating whether the mayor is in his first mandate. The regression of interest is the following: \n",
    "\n",
    "<center>$pcorrupt_i = \\beta_0 + \\beta_1 first_i + \\varepsilon_i$</center>"
   ]
  },
  {
   "cell_type": "code",
   "execution_count": 10,
   "id": "99a3afaa",
   "metadata": {},
   "outputs": [
    {
     "data": {
      "text/plain": [
       "0      1.0\n",
       "1      0.0\n",
       "2      0.0\n",
       "3      0.0\n",
       "4      0.0\n",
       "      ... \n",
       "471    0.0\n",
       "472    1.0\n",
       "473    0.0\n",
       "474    0.0\n",
       "475    1.0\n",
       "Name: first, Length: 476, dtype: float32"
      ]
     },
     "execution_count": 10,
     "metadata": {},
     "output_type": "execute_result"
    }
   ],
   "source": [
    "df[\"first\"]"
   ]
  },
  {
   "cell_type": "code",
   "execution_count": 14,
   "id": "2983105f",
   "metadata": {},
   "outputs": [
    {
     "data": {
      "text/html": [
       "<table class=\"simpletable\">\n",
       "<caption>OLS Regression Results</caption>\n",
       "<tr>\n",
       "  <th>Dep. Variable:</th>        <td>pcorrupt</td>     <th>  R-squared:         </th> <td>   0.008</td>\n",
       "</tr>\n",
       "<tr>\n",
       "  <th>Model:</th>                   <td>OLS</td>       <th>  Adj. R-squared:    </th> <td>   0.006</td>\n",
       "</tr>\n",
       "<tr>\n",
       "  <th>Method:</th>             <td>Least Squares</td>  <th>  F-statistic:       </th> <td>   3.943</td>\n",
       "</tr>\n",
       "<tr>\n",
       "  <th>Date:</th>             <td>Mon, 24 Oct 2022</td> <th>  Prob (F-statistic):</th>  <td>0.0476</td> \n",
       "</tr>\n",
       "<tr>\n",
       "  <th>Time:</th>                 <td>11:36:59</td>     <th>  Log-Likelihood:    </th> <td>  415.01</td>\n",
       "</tr>\n",
       "<tr>\n",
       "  <th>No. Observations:</th>      <td>   476</td>      <th>  AIC:               </th> <td>  -826.0</td>\n",
       "</tr>\n",
       "<tr>\n",
       "  <th>Df Residuals:</th>          <td>   474</td>      <th>  BIC:               </th> <td>  -817.7</td>\n",
       "</tr>\n",
       "<tr>\n",
       "  <th>Df Model:</th>              <td>     1</td>      <th>                     </th>     <td> </td>   \n",
       "</tr>\n",
       "<tr>\n",
       "  <th>Covariance Type:</th>         <td>HC1</td>       <th>                     </th>     <td> </td>   \n",
       "</tr>\n",
       "</table>\n",
       "<table class=\"simpletable\">\n",
       "<tr>\n",
       "      <td></td>         <th>coef</th>     <th>std err</th>      <th>z</th>      <th>P>|z|</th>  <th>[0.025</th>    <th>0.975]</th>  \n",
       "</tr>\n",
       "<tr>\n",
       "  <th>Intercept</th> <td>    0.0737</td> <td>    0.007</td> <td>   10.039</td> <td> 0.000</td> <td>    0.059</td> <td>    0.088</td>\n",
       "</tr>\n",
       "<tr>\n",
       "  <th>first</th>     <td>   -0.0188</td> <td>    0.009</td> <td>   -1.986</td> <td> 0.047</td> <td>   -0.037</td> <td>   -0.000</td>\n",
       "</tr>\n",
       "</table>\n",
       "<table class=\"simpletable\">\n",
       "<tr>\n",
       "  <th>Omnibus:</th>       <td>318.592</td> <th>  Durbin-Watson:     </th> <td>   1.866</td>\n",
       "</tr>\n",
       "<tr>\n",
       "  <th>Prob(Omnibus):</th> <td> 0.000</td>  <th>  Jarque-Bera (JB):  </th> <td>3161.573</td>\n",
       "</tr>\n",
       "<tr>\n",
       "  <th>Skew:</th>          <td> 2.874</td>  <th>  Prob(JB):          </th> <td>    0.00</td>\n",
       "</tr>\n",
       "<tr>\n",
       "  <th>Kurtosis:</th>      <td>14.242</td>  <th>  Cond. No.          </th> <td>    2.81</td>\n",
       "</tr>\n",
       "</table><br/><br/>Notes:<br/>[1] Standard Errors are heteroscedasticity robust (HC1)"
      ],
      "text/plain": [
       "<class 'statsmodels.iolib.summary.Summary'>\n",
       "\"\"\"\n",
       "                            OLS Regression Results                            \n",
       "==============================================================================\n",
       "Dep. Variable:               pcorrupt   R-squared:                       0.008\n",
       "Model:                            OLS   Adj. R-squared:                  0.006\n",
       "Method:                 Least Squares   F-statistic:                     3.943\n",
       "Date:                Mon, 24 Oct 2022   Prob (F-statistic):             0.0476\n",
       "Time:                        11:36:59   Log-Likelihood:                 415.01\n",
       "No. Observations:                 476   AIC:                            -826.0\n",
       "Df Residuals:                     474   BIC:                            -817.7\n",
       "Df Model:                           1                                         \n",
       "Covariance Type:                  HC1                                         \n",
       "==============================================================================\n",
       "                 coef    std err          z      P>|z|      [0.025      0.975]\n",
       "------------------------------------------------------------------------------\n",
       "Intercept      0.0737      0.007     10.039      0.000       0.059       0.088\n",
       "first         -0.0188      0.009     -1.986      0.047      -0.037      -0.000\n",
       "==============================================================================\n",
       "Omnibus:                      318.592   Durbin-Watson:                   1.866\n",
       "Prob(Omnibus):                  0.000   Jarque-Bera (JB):             3161.573\n",
       "Skew:                           2.874   Prob(JB):                         0.00\n",
       "Kurtosis:                      14.242   Cond. No.                         2.81\n",
       "==============================================================================\n",
       "\n",
       "Notes:\n",
       "[1] Standard Errors are heteroscedasticity robust (HC1)\n",
       "\"\"\""
      ]
     },
     "execution_count": 14,
     "metadata": {},
     "output_type": "execute_result"
    }
   ],
   "source": [
    "## run the regression above using robust standard errors\n",
    "import statsmodels.formula.api as smf \n",
    "from statsmodels.iolib.summary2 import summary_col\n",
    "\n",
    "ols1 = smf.ols(\"pcorrupt ~ first\", data = df).fit(cov_type='HC1')\n",
    "ols1.summary()"
   ]
  },
  {
   "cell_type": "markdown",
   "id": "783a4e01",
   "metadata": {},
   "source": [
    "**What could be some sources of bias, namely, variables that act as confounder?**\n",
    "\n",
    "Winning margin could be a confounder. It might influence the probability of being corrupt, as less currupt people might have smaller margins. It might also influence the fact if a contestant is elected for the first time (still very popular and hyped candidates might have higher winning margins)\n",
    "\n",
    "Municipial characterisitcs might also be confounders. They might influence if a contender runs for the first time or not. It also influences corruption through general corruption levels in a municipality."
   ]
  },
  {
   "cell_type": "code",
   "execution_count": 18,
   "id": "76f98b94",
   "metadata": {},
   "outputs": [
    {
     "data": {
      "text/html": [
       "<table class=\"simpletable\">\n",
       "<caption>OLS Regression Results</caption>\n",
       "<tr>\n",
       "  <th>Dep. Variable:</th>        <td>pcorrupt</td>     <th>  R-squared:         </th> <td>   0.024</td>\n",
       "</tr>\n",
       "<tr>\n",
       "  <th>Model:</th>                   <td>OLS</td>       <th>  Adj. R-squared:    </th> <td>   0.006</td>\n",
       "</tr>\n",
       "<tr>\n",
       "  <th>Method:</th>             <td>Least Squares</td>  <th>  F-statistic:       </th> <td>   3.605</td>\n",
       "</tr>\n",
       "<tr>\n",
       "  <th>Date:</th>             <td>Mon, 24 Oct 2022</td> <th>  Prob (F-statistic):</th>  <td>0.00179</td>\n",
       "</tr>\n",
       "<tr>\n",
       "  <th>Time:</th>                 <td>11:52:43</td>     <th>  Log-Likelihood:    </th> <td>  292.98</td>\n",
       "</tr>\n",
       "<tr>\n",
       "  <th>No. Observations:</th>      <td>   328</td>      <th>  AIC:               </th> <td>  -572.0</td>\n",
       "</tr>\n",
       "<tr>\n",
       "  <th>Df Residuals:</th>          <td>   321</td>      <th>  BIC:               </th> <td>  -545.4</td>\n",
       "</tr>\n",
       "<tr>\n",
       "  <th>Df Model:</th>              <td>     6</td>      <th>                     </th>     <td> </td>   \n",
       "</tr>\n",
       "<tr>\n",
       "  <th>Covariance Type:</th>         <td>HC1</td>       <th>                     </th>     <td> </td>   \n",
       "</tr>\n",
       "</table>\n",
       "<table class=\"simpletable\">\n",
       "<tr>\n",
       "         <td></td>           <th>coef</th>     <th>std err</th>      <th>z</th>      <th>P>|z|</th>  <th>[0.025</th>    <th>0.975]</th>  \n",
       "</tr>\n",
       "<tr>\n",
       "  <th>Intercept</th>      <td>    0.0860</td> <td>    0.015</td> <td>    5.870</td> <td> 0.000</td> <td>    0.057</td> <td>    0.115</td>\n",
       "</tr>\n",
       "<tr>\n",
       "  <th>first</th>          <td>   -0.0278</td> <td>    0.016</td> <td>   -1.700</td> <td> 0.089</td> <td>   -0.060</td> <td>    0.004</td>\n",
       "</tr>\n",
       "<tr>\n",
       "  <th>pop</th>            <td>-1.229e-07</td> <td> 1.46e-07</td> <td>   -0.840</td> <td> 0.401</td> <td>-4.09e-07</td> <td> 1.64e-07</td>\n",
       "</tr>\n",
       "<tr>\n",
       "  <th>purb</th>           <td>    0.0080</td> <td>    0.026</td> <td>    0.303</td> <td> 0.762</td> <td>   -0.044</td> <td>    0.060</td>\n",
       "</tr>\n",
       "<tr>\n",
       "  <th>pib_capita_02</th>  <td>-7.947e-07</td> <td> 1.92e-07</td> <td>   -4.136</td> <td> 0.000</td> <td>-1.17e-06</td> <td>-4.18e-07</td>\n",
       "</tr>\n",
       "<tr>\n",
       "  <th>op_01_04</th>       <td>   -0.0050</td> <td>    0.023</td> <td>   -0.221</td> <td> 0.825</td> <td>   -0.049</td> <td>    0.039</td>\n",
       "</tr>\n",
       "<tr>\n",
       "  <th>winning_margin</th> <td>   -0.0323</td> <td>    0.035</td> <td>   -0.915</td> <td> 0.360</td> <td>   -0.101</td> <td>    0.037</td>\n",
       "</tr>\n",
       "</table>\n",
       "<table class=\"simpletable\">\n",
       "<tr>\n",
       "  <th>Omnibus:</th>       <td>161.954</td> <th>  Durbin-Watson:     </th> <td>   1.926</td> \n",
       "</tr>\n",
       "<tr>\n",
       "  <th>Prob(Omnibus):</th> <td> 0.000</td>  <th>  Jarque-Bera (JB):  </th> <td> 706.384</td> \n",
       "</tr>\n",
       "<tr>\n",
       "  <th>Skew:</th>          <td> 2.160</td>  <th>  Prob(JB):          </th> <td>4.08e-154</td>\n",
       "</tr>\n",
       "<tr>\n",
       "  <th>Kurtosis:</th>      <td> 8.747</td>  <th>  Cond. No.          </th> <td>3.75e+05</td> \n",
       "</tr>\n",
       "</table><br/><br/>Notes:<br/>[1] Standard Errors are heteroscedasticity robust (HC1)<br/>[2] The condition number is large, 3.75e+05. This might indicate that there are<br/>strong multicollinearity or other numerical problems."
      ],
      "text/plain": [
       "<class 'statsmodels.iolib.summary.Summary'>\n",
       "\"\"\"\n",
       "                            OLS Regression Results                            \n",
       "==============================================================================\n",
       "Dep. Variable:               pcorrupt   R-squared:                       0.024\n",
       "Model:                            OLS   Adj. R-squared:                  0.006\n",
       "Method:                 Least Squares   F-statistic:                     3.605\n",
       "Date:                Mon, 24 Oct 2022   Prob (F-statistic):            0.00179\n",
       "Time:                        11:52:43   Log-Likelihood:                 292.98\n",
       "No. Observations:                 328   AIC:                            -572.0\n",
       "Df Residuals:                     321   BIC:                            -545.4\n",
       "Df Model:                           6                                         \n",
       "Covariance Type:                  HC1                                         \n",
       "==================================================================================\n",
       "                     coef    std err          z      P>|z|      [0.025      0.975]\n",
       "----------------------------------------------------------------------------------\n",
       "Intercept          0.0860      0.015      5.870      0.000       0.057       0.115\n",
       "first             -0.0278      0.016     -1.700      0.089      -0.060       0.004\n",
       "pop            -1.229e-07   1.46e-07     -0.840      0.401   -4.09e-07    1.64e-07\n",
       "purb               0.0080      0.026      0.303      0.762      -0.044       0.060\n",
       "pib_capita_02  -7.947e-07   1.92e-07     -4.136      0.000   -1.17e-06   -4.18e-07\n",
       "op_01_04          -0.0050      0.023     -0.221      0.825      -0.049       0.039\n",
       "winning_margin    -0.0323      0.035     -0.915      0.360      -0.101       0.037\n",
       "==============================================================================\n",
       "Omnibus:                      161.954   Durbin-Watson:                   1.926\n",
       "Prob(Omnibus):                  0.000   Jarque-Bera (JB):              706.384\n",
       "Skew:                           2.160   Prob(JB):                    4.08e-154\n",
       "Kurtosis:                       8.747   Cond. No.                     3.75e+05\n",
       "==============================================================================\n",
       "\n",
       "Notes:\n",
       "[1] Standard Errors are heteroscedasticity robust (HC1)\n",
       "[2] The condition number is large, 3.75e+05. This might indicate that there are\n",
       "strong multicollinearity or other numerical problems.\n",
       "\"\"\""
      ]
     },
     "execution_count": 18,
     "metadata": {},
     "output_type": "execute_result"
    }
   ],
   "source": [
    "## run the regression above adding the variables that may act as a confounder\n",
    "ols2 = smf.ols(\"pcorrupt ~ first + pop + purb + pib_capita_02 + op_01_04+ winning_margin\", data = df).fit(cov_type='HC1')\n",
    "ols2.summary()"
   ]
  },
  {
   "cell_type": "markdown",
   "id": "d2a3bc6b",
   "metadata": {},
   "source": [
    "**In your opinion, are there any additional sources of bias that threatens the causal interpretation of the results?**\n",
    "\n",
    "There might be bias since extremely corrupt mayors do not even seek re-election and simply drop out of the election (or worse they are forced out of office early). This could mean that we lose a lot of information about the relationship between electing a first-time candidate and corruption.\n"
   ]
  },
  {
   "cell_type": "markdown",
   "id": "79da597f",
   "metadata": {},
   "source": [
    "To make sure that this is not the case we will use a regression discontinuity design where the running variable is the margin by which the incumbent won or lost in the previous election. Namely, we compare municipalities where incumbents won or lost by a narrow margin. This comparison provides quasi-random assignment of first-term and second-term mayors across these competitive elections."
   ]
  },
  {
   "cell_type": "code",
   "execution_count": 20,
   "id": "0f348163",
   "metadata": {
    "scrolled": true
   },
   "outputs": [
    {
     "data": {
      "image/png": "[encoded data removed]",
      "text/plain": [
       "<Figure size 640x480 with 1 Axes>"
      ]
     },
     "metadata": {},
     "output_type": "display_data"
    },
    {
     "name": "stdout",
     "output_type": "stream",
     "text": [
      "\n",
      "Call: rdplot\n",
      "Number of Observations:                   328\n",
      "Kernel:                               Uniform\n",
      "Polynomial Order Est. (p):                  2\n",
      "\n",
      "                                Left      Right\n",
      "------------------------------------------------\n",
      "Number of Observations           126        202\n",
      "Number of Effective Obs          126        202\n",
      "Bandwith poly. fit (h)         0.671      0.918\n",
      "Number of bins scale               1          1\n",
      "Bins Selected                     15         15\n",
      "Average Bin Length             0.048      0.061\n",
      "Median Bin Length              0.045      0.061\n",
      "IMSE-optimal bins                5.0        3.0\n",
      "Mimicking Variance bins         15.0       11.0\n",
      "\n",
      "Relative to IMSE-optimal:\n",
      "Implied scale                    3.0        5.0\n",
      "WIMSE variance weight          0.036      0.008\n",
      "WIMSE bias weight              0.964      0.992\n"
     ]
    },
    {
     "data": {
      "text/plain": []
     },
     "execution_count": 20,
     "metadata": {},
     "output_type": "execute_result"
    }
   ],
   "source": [
    "## plot the RD plot using as running variable the variable winning_margin\n",
    "## use a second order polynomial and 15 bins at each side\n",
    "\n",
    "margin = df.dropna(subset=['winning_margin']).winning_margin\n",
    "corruption = df.dropna(subset=['winning_margin']).pcorrupt\n",
    "rdplot(y = corruption, x = margin, nbins = 15, p = 2)"
   ]
  },
  {
   "cell_type": "markdown",
   "id": "2a7630cb",
   "metadata": {},
   "source": [
    "In the graph we see that there might be a positive causal effect around the cut-off.However, there are also some outliers, which could heavily influence these polynomials!"
   ]
  },
  {
   "cell_type": "code",
   "execution_count": 45,
   "id": "94e4edd6",
   "metadata": {},
   "outputs": [
    {
     "name": "stdout",
     "output_type": "stream",
     "text": [
      "Call: rdrobust\n",
      "Number of Observations:                   328\n",
      "Polynomial Order Est. (p):                  4\n",
      "Polynomial Order Bias (q):                  5\n",
      "Kernel:                            Triangular\n",
      "Bandwidth Selection:                    mserd\n",
      "Var-Cov Estimator:                         NN\n",
      "\n",
      "                                Left      Right\n",
      "------------------------------------------------\n",
      "Number of Observations           126        202\n",
      "Number of Unique Obs.            126        201\n",
      "Number of Effective Obs.          90        110\n",
      "Bandwidth Estimation           0.175      0.175\n",
      "Bandwidth Bias                 0.239      0.239\n",
      "rho (h/b)                      0.732      0.732\n",
      "\n",
      "Method             Coef.     S.E.   t-stat    P>|t|       95% CI      \n",
      "-------------------------------------------------------------------------\n",
      "Conventional       0.038    0.042    0.904   3.662e-01    [-0.044, 0.119]\n",
      "Robust                 -        -    1.126   2.600e-01    [-0.036, 0.132]\n",
      "\n",
      "Call: rdrobust\n",
      "Number of Observations:                   328\n",
      "Polynomial Order Est. (p):                  4\n",
      "Polynomial Order Bias (q):                  5\n",
      "Kernel:                            Triangular\n",
      "Bandwidth Selection:                    mserd\n",
      "Var-Cov Estimator:                         NN\n",
      "\n",
      "                                Left      Right\n",
      "------------------------------------------------\n",
      "Number of Observations           126        202\n",
      "Number of Unique Obs.            126        201\n",
      "Number of Effective Obs.          94        124\n",
      "Bandwidth Estimation           0.205      0.205\n",
      "Bandwidth Bias                 0.274      0.274\n",
      "rho (h/b)                      0.747      0.747\n",
      "\n",
      "Method             Coef.     S.E.   t-stat    P>|t|       95% CI      \n",
      "-------------------------------------------------------------------------\n",
      "Conventional        0.03    0.041     0.72   4.717e-01     [-0.051, 0.11]\n",
      "Robust                 -        -    0.904   3.661e-01    [-0.045, 0.121]\n",
      "\n",
      "Call: rdrobust\n",
      "Number of Observations:                   328\n",
      "Polynomial Order Est. (p):                  2\n",
      "Polynomial Order Bias (q):                  3\n",
      "Kernel:                            Triangular\n",
      "Bandwidth Selection:                    mserd\n",
      "Var-Cov Estimator:                         NN\n",
      "\n",
      "                                Left      Right\n",
      "------------------------------------------------\n",
      "Number of Observations           126        202\n",
      "Number of Unique Obs.            126        201\n",
      "Number of Effective Obs.          90        104\n",
      "Bandwidth Estimation           0.169      0.169\n",
      "Bandwidth Bias                 0.236      0.236\n",
      "rho (h/b)                      0.717      0.717\n",
      "\n",
      "Method             Coef.     S.E.   t-stat    P>|t|       95% CI      \n",
      "-------------------------------------------------------------------------\n",
      "Conventional      -0.004    0.033   -0.113   9.099e-01    [-0.069, 0.061]\n",
      "Robust                 -        -   -0.287   7.743e-01    [-0.082, 0.061]\n",
      "\n",
      "Call: rdrobust\n",
      "Number of Observations:                   328\n",
      "Polynomial Order Est. (p):                  2\n",
      "Polynomial Order Bias (q):                  3\n",
      "Kernel:                            Triangular\n",
      "Bandwidth Selection:                    mserd\n",
      "Var-Cov Estimator:                         NN\n",
      "\n",
      "                                Left      Right\n",
      "------------------------------------------------\n",
      "Number of Observations           126        202\n",
      "Number of Unique Obs.            126        201\n",
      "Number of Effective Obs.          86         98\n",
      "Bandwidth Estimation           0.155      0.155\n",
      "Bandwidth Bias                 0.214      0.214\n",
      "rho (h/b)                      0.725      0.725\n",
      "\n",
      "Method             Coef.     S.E.   t-stat    P>|t|       95% CI      \n",
      "-------------------------------------------------------------------------\n",
      "Conventional      -0.011    0.034   -0.341   7.330e-01    [-0.078, 0.055]\n",
      "Robust                 -        -   -0.459   6.459e-01     [-0.09, 0.056]\n",
      "\n"
     ]
    }
   ],
   "source": [
    "## run the RD regression using the same dependent and explanatory variable as before\n",
    "## include 4th degree polynomial and the covariates that you included above\n",
    "covs = df.dropna(subset=['winning_margin'])[[\"pop\", \"purb\", \"pib_capita_02\", \"op_01_04\"]] # note how we don't include \"first\", since this is accounted for in the winning_margin variable\n",
    "print(rdrobust(y = corruption, x = margin, covs = covs, p = 4))\n",
    "\n",
    "# Some robustness checks\n",
    "print(rdrobust(y = corruption, x = margin, p = 4)) # Just to see what happens when we do not include the covariates\n",
    "print(rdrobust(y = corruption, x = margin, p = 2)) # or to see what happens when we decrease the polynomial\n",
    "print(rdrobust(y = corruption, x = margin, covs = covs, p = 2))"
   ]
  },
  {
   "cell_type": "markdown",
   "id": "53411811",
   "metadata": {},
   "source": [
    "**Interpret the coefficient**\n",
    "\n",
    "The coefficient tells us that there is a causal effect of about 0.034 on curruption when there is a candidate that is running for the first time. Hence this could mean that re-election incentives reduce corruption. However, we also see that the standard error of the estimated effect is quite large and hence we cannot conclusively say there is a significant positive causal effect.\n",
    "\n",
    "This is entirely different than the conclusion based on the simple OLS analysis. There we saw a negative coefficient, which could be misinterpreted as a negative effect of running for the first time on corruption. "
   ]
  },
  {
   "cell_type": "markdown",
   "id": "c29f8ac5",
   "metadata": {},
   "source": [
    "## Difference-in-Differences"
   ]
  },
  {
   "cell_type": "markdown",
   "id": "0d530c20",
   "metadata": {},
   "source": [
    "In this part you will use data from Argentina to investigate the causal effect of police on crime. Following the paper by [Di Tella and Schargrodsky (2004)](https://www.aeaweb.org/articles?id=10.1257/000282804322970733), you will exploit the follow-up of a terrorist attack tto the Jewish center in Buenos Aires in July 1994, after which all Jewish institution received police protection. This event induced a geographical allocation of police forces orthogonal to a crime regression allowing to isolate the causal effect of having more police in a neighborhood on a proxy for crime (car thefts), through a difference-in-differences analysis. "
   ]
  },
  {
   "cell_type": "code",
   "execution_count": null,
   "id": "c04fefb7",
   "metadata": {
    "scrolled": false
   },
   "outputs": [],
   "source": [
    "df = pd.read_stata('data/HW04_data_DiD.dta')\n",
    "df_labels = pd.read_stata('data/HW04_data_DiD.dta', iterator=True).variable_labels()\n",
    "df_labels"
   ]
  },
  {
   "cell_type": "code",
   "execution_count": null,
   "id": "f077bf4c",
   "metadata": {},
   "outputs": [],
   "source": [
    "df.head()"
   ]
  },
  {
   "cell_type": "markdown",
   "id": "e16d3254",
   "metadata": {},
   "source": [
    "The main outcome of interest is *totrob*, the total number of car thefts (proxy for criminal activity). The main explanatory variable is a dummy variable indicating whether the there is a Jewish institution in the neighborhood **and** the observation is after July (*inst1p*). The main regression is the following: \n",
    "\n",
    "<center>$totrob_i = \\beta_0 + \\beta_1 inst1p_i + \\varepsilon_i$</center>"
   ]
  },
  {
   "cell_type": "code",
   "execution_count": null,
   "id": "18c3c395",
   "metadata": {},
   "outputs": [],
   "source": [
    "## Run the regression above with robust standard errors\n",
    "import statsmodels.formula.api as smf\n",
    "\n",
    "ols1 = ..."
   ]
  },
  {
   "cell_type": "markdown",
   "id": "a27943f4",
   "metadata": {},
   "source": [
    "**Why this estimate CANNOT be interpreted as causal?**"
   ]
  },
  {
   "cell_type": "code",
   "execution_count": null,
   "id": "41d78dc7",
   "metadata": {},
   "outputs": [],
   "source": [
    "## Plot the time series of car thefts separately for blocks with and without a jewish institutions\n",
    "## Add a vertical line indicating the terrorist attack \n",
    "import seaborn as sns\n",
    "import matplotlib.pyplot as plt\n"
   ]
  },
  {
   "cell_type": "markdown",
   "id": "8eeacc13",
   "metadata": {},
   "source": [
    "**Does the parallel trend assumption hold?**"
   ]
  },
  {
   "cell_type": "code",
   "execution_count": null,
   "id": "f2623338",
   "metadata": {},
   "outputs": [],
   "source": [
    "##Run the regression above including month and block fixed effects\n",
    "from linearmodels import PanelOLS\n",
    "did = ..."
   ]
  },
  {
   "cell_type": "code",
   "execution_count": null,
   "id": "e623f9ac",
   "metadata": {},
   "outputs": [],
   "source": [
    "##show the results from both regressions"
   ]
  },
  {
   "cell_type": "markdown",
   "id": "9352eef4",
   "metadata": {},
   "source": [
    "**Compare and interpret the results**"
   ]
  }
 ],
 "metadata": {
  "kernelspec": {
   "display_name": "Python 3 (ipykernel)",
   "language": "python",
   "name": "python3"
  },
  "language_info": {
   "codemirror_mode": {
    "name": "ipython",
    "version": 3
   },
   "file_extension": ".py",
   "mimetype": "text/x-python",
   "name": "python",
   "nbconvert_exporter": "python",
   "pygments_lexer": "ipython3",
   "version": "3.9.7"
  }
 },
 "nbformat": 4,
 "nbformat_minor": 5
}
